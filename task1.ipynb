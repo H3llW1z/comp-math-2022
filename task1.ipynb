{
 "cells": [
  {
   "cell_type": "markdown",
   "metadata": {},
   "source": [
    "\n",
    "# Выполнение работы\n",
    "1. Ручное вычисление бинарным методом и методом множителей:"
   ]
  },
  {
   "cell_type": "markdown",
   "metadata": {},
   "source": [
    "Бинарный метод\n",
    "  \\[n1 = 32 = 1)00000 -> SSSSS\n"\\],
    "  x, x^2, x^4, x^8, x^16, x^32 - 5 операций\n",
    "  \n",
    "  n2 = 64 = 1)00000 -> SSSSSS\n",
    "  x, x^2, x^4, x^8, x^16, x^32, x^64 - 6 операций\n",
    "  \n",
    "  n3 = 100 = 1)100100 -> SXSSSXSS\n",
    "  x, x^2, x^3, x^6, x^12, x^24, x^25, x^50, x^100 - 8 операций\n",
    "  \n",
    "  \n",
    "Метод множителей\n",
    "  n1 = 32 =2 * 16    x, x^2 - 1 операция\n",
    "  x^2=y  ((y^2)^2)^2  y, y^2, y^4, y^8 - 3 операции\n",
    "  в сумме 4 операции\n",
    "  \n",
    "  n2 = 64 =2 * 32    x, x^2 - 1 операция\n",
    "  x^2=y  ((y^2)^2)^2)^2  y, y^2, y^4, y^8, y^16 - 4 операции\n",
    "  в сумме 5 операции\n",
    "  \n",
    "  n3 = 100 =2 * 50    x, x^2 - 1 операция\n",
    "  x^2=y  ((((y^2) * y)^2)^2)^2) * y)^2  y, y^2, y^3, y^6, y^12, y^24, y^25, y^50 - 7 операции\n",
    "  в сумме 8 операции"
   ]
  },
  {
   "cell_type": "markdown",
   "metadata": {},
   "source": [
    "## Реализация алгоритма Брауэра"
   ]
  },
  {
   "cell_type": "code",
   "execution_count": null,
   "metadata": {},
   "outputs": [],
   "source": [
    "print(\"Введите значение степени х\")\n",
    "n = int(input())\n",
    "print(\"введите значение k\")\n",
    "k = int(input())\n",
    "print(\"введите систему счисления\")\n",
    "d = int(input())\n",
    "b = ''\n",
    "p=0\n",
    "while n > 0:\n",
    "    b = str(n % d) + b\n",
    "    n = n // d\n",
    "    p=p+1\n",
    "    \n",
    "b = int(b)\n",
    "print(b)\n",
    "rang = p\n",
    "r= b%10\n",
    "roof = 0\n",
    "B=0\n",
    "B = B+r\n",
    "print(r)\n",
    "while(p>1):\n",
    "    p=p-1\n",
    "    x=10**(p+1)\n",
    "    y=10**(p)\n",
    "    nom = (b%x)//y\n",
    "    if(roof<k):\n",
    "        B=B*2\n",
    "        roof=roof+1\n",
    "    else:\n",
    "        B=B+nom\n",
    "        roof=0\n",
    "    print(B)"
   ]
  },
  {
   "cell_type": "markdown",
   "metadata": {},
   "source": [
    "## Реализация алгоритма дробления"
   ]
  },
  {
   "cell_type": "code",
   "execution_count": null,
   "metadata": {
    "scrolled": true
   },
   "outputs": [],
   "source": [
    "def nu(n): \n",
    "    n = Integer(n)\n",
    "    return n.popcount()"
   ]
  },
  {
   "cell_type": "code",
   "execution_count": null,
   "metadata": {},
   "outputs": [],
   "source": [
    "def create_part(m, ch_part): #создание вектора\n",
    "    put1 = []\n",
    "    put2 = []\n",
    "    for i in range(1, m + 1):\n",
    "        if i <= int(ch_part):\n",
    "            put1.append(i)\n",
    "        else:\n",
    "            put2.append(i)\n",
    "    return [put1, put2]"
   ]
  },
  {
   "cell_type": "code",
   "execution_count": null,
   "metadata": {},
   "outputs": [],
   "source": [
    "def che(vec): #число вектора\n",
    "    line = []\n",
    "    line.append(1)\n",
    "    for i in range(len(vec)):\n",
    "        line.append(line[i] + line[vec[i] - 1])\n",
    "    return line[len(line) - 1]"
   ]
  },
  {
   "cell_type": "code",
   "execution_count": null,
   "metadata": {},
   "outputs": [],
   "source": [
    "def dec(vec):#декременация вектора \n",
    "    _len = len(vec)\n",
    "    for i in range(_len):\n",
    "        if vec[_len - i - 1] > 1:\n",
    "            vec[_len - i - 1] -= 1\n",
    "            for j in range(_len - i, _len):\n",
    "                vec[j] = j + 1\n",
    "            break"
   ]
  },
  {
   "cell_type": "code",
   "execution_count": 22,
   "metadata": {},
   "outputs": [],
   "source": [
    "\n",
    "def generate_part(_len, first):#создание части вектора\n",
    "    part = [0]*_len\n",
    "    for i in range(_len):\n",
    "        part[i] = first + i\n",
    "    return part"
   ]
  },
  {
   "cell_type": "code",
   "execution_count": null,
   "metadata": {},
   "outputs": [],
   "source": [
    "def get_chain(vec):\n",
    "    line = []\n",
    "    line.append(1)\n",
    "    for i in range(len(vec)): #создание цепочки\n",
    "        line.append(line[i] + line[vec[i] - 1])\n",
    "    return line"
   ]
  },
  {
   "cell_type": "code",
   "execution_count": null,
   "metadata": {},
   "outputs": [],
   "source": [
    "def dect(vec):#возможно ли \n",
    "    for i in vec:\n",
    "        if i > 1:\n",
    "            return False\n",
    "    return True"
   ]
  },
  {
   "cell_type": "code",
   "execution_count": null,
   "metadata": {},
   "outputs": [],
   "source": [
    "def vochcyc(n):\n",
    "    dmin = math.ceil(math.log2(n)) #минимум\n",
    "    dmax = int(math.log2(n) + nu(n)) #максимум\n",
    "    for m in range(dmin, dmax):#перебор всех длин векторов\n",
    "        q = int(m/2)\n",
    "        vec = create_part(m, q)\n",
    "        fix = generate_part(q, 1)\n",
    "        \n",
    "        while True: # перебор всех возможных фикс частей\n",
    "            change = generate_part(m - q, q + 1)\n",
    "            bounds = [0]*2\n",
    "            a = che(fix)\n",
    "            bounds[0] = a + m - q\n",
    "            bounds[1] = a * 2 ** (m - q)\n",
    "\n",
    "            \n",
    "            if n < bounds[0] or n > bounds[1]:\n",
    "                if dect(fix) and len(fix) > 1:\n",
    "                    break\n",
    "                dec(fix)\n",
    "                continue\n",
    "                \n",
    "            while True:\n",
    "                if che(fix + change) == n:  #перебор\n",
    "                    return fix + change\n",
    "                if dect(change):\n",
    "                    break\n",
    "                dec(change)\n",
    "            if dect(fix):\n",
    "                break\n",
    "            dec(fix)   "
   ]
  },
  {
   "cell_type": "code",
   "execution_count": null,
   "metadata": {},
   "outputs": [],
   "source": [
    "n = int(input())\n",
    "Joe = vochcyc(n)\n",
    "print(\"Ваш вектор:  \", Joe)\n",
    "print(\"Ваша цепочка:\", get_chain(Joe))"
   ]
  },
  {
   "cell_type": "markdown",
   "metadata": {},
   "source": [
    "## Гипотеза Шольца-Брауэра"
   ]
  },
  {
   "cell_type": "code",
   "execution_count": null,
   "metadata": {},
   "outputs": [],
   "source": [
    "for i in range(1, 13):\n",
    "    Frost = vochcyc(i)\n",
    "    Axe = vochcyc(2**i - 1)\n",
    "    Bait = get_chain(Frost)\n",
    "    Block = get_chain(Axe)\n",
    "    print(len(Block) <= i - 1 + len(Bait))"
   ]
  },
  {
   "cell_type": "markdown",
   "metadata": {},
   "source": [
    "    n  l*(n)  l*(2^n-1)\n",
    "    1    1       1\n",
    "    2    2       3\n",
    "    3    3       5\n",
    "    4    3       6\n",
    "    5    4       8\n",
    "    6    4       9\n",
    "    7    5       11\n",
    "    8    4       11\n",
    "    9    5       13\n",
    "    10   5       14\n",
    "    11   6       16\n",
    "    12   5       16"
   ]
  }
 ],
 "metadata": {
  "kernelspec": {
   "display_name": "SageMath 9.3",
   "language": "sage",
   "name": "sagemath"
  },
  "language_info": {
   "codemirror_mode": {
    "name": "ipython",
    "version": 3
   },
   "file_extension": ".py",
   "mimetype": "text/x-python",
   "name": "python",
   "nbconvert_exporter": "python",
   "pygments_lexer": "ipython3",
   "version": "3.7.10"
  }
 },
 "nbformat": 4,
 "nbformat_minor": 4
}
