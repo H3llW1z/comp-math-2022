{
 "cells": [
  {
   "cell_type": "markdown",
   "metadata": {},
   "source": [
    "# Практическая работа №1: Исследование алгоритмов формирования аддитивных цепочек\n",
    "\n",
    "Выполнил студент гр. 0304 Емельянов Дмитрий, вариант 33."
   ]
  },
  {
   "cell_type": "markdown",
   "metadata": {},
   "source": [
    "## Цель работы\n",
    "\n",
    "Формирование представления о аддитивных цепочках, выработать умение составлять и применять алгоритмы для нахождения минимальных аддитивных цепочек для заданного числа, привить навык использования систем компьютерной математики для реализации алгоритмов."
   ]
  },
  {
   "cell_type": "markdown",
   "metadata": {},
   "source": [
    "## Основные теоретические положения\n",
    "\n",
    "Пусть имеется задача вычисления $x^n$ за оптимальное кол-во операций. Для этого существует несколько алгоритмов. \n",
    "\n",
    "1) Бинарный метод (m-арный метод с базой m=2)\n",
    "> 1.1) $n={d_0d_1d_2...d_t}$ в двочиной с.с  \n",
    "1.2) выполняется построение x  \n",
    "1.3) возведение $x^{d_0}$ в степень $2$ и умножение на $x^{d_1}$. Таким образом $y_1=x^{d_0*2+d_1}$   \n",
    "1.4) $y_1$ в степень $2$ и умножаем на $x^{d_2}$. $y_2=x^{d_0*m^2+d_1*m+d_2}$  \n",
    "1.5) повторяем: $y_{i+1}={y_i}^{2}*x^{d_i}$\n",
    "1.6) когда все цифры будут обработаны $y_t=x^n$. Полученная последовательность $y_i$ позволяет последовательность вычислить $x^n$.  \n",
    "\n",
    "Также, есть бинарный метод SX, в котором получается двоичная запись числа $n$, отбрасывается первая цифра, происходит замена 1 - 'SX', 0 - 'X', где S - возведение в квадрат, X - умножение на X. Далее, берётся базовая последовательность - X, и в порядке слева направо применяются данные операции. Как можно заметить, бинарный метод SX - частный случай метода m-арного с базой m=2.  \n",
    "\n",
    "2) Метод множителей\n",
    "> 2.1) Если $n$ составное, представляем $n=pq$, где $p$ - наименьший простой делитель, $n, q > 1$. Тогда можно вычислить $x^n=(x^{p})^{q}$. Если $n$ простое, можно вычислить $x^n=x^{n-1}*x$  \n",
    " 2.2) Данные шаги повторяются для получающихся в разложении множителей, пока не останутся только операции возведения в 2  или умножения на уже вычисленные величины.  \n",
    "\n",
    "\n",
    "\n",
    "**def** *Аддитивная цепочка - последовательность $a_i \\in \\mathbb{N}$ от $1$ до $n$,\n",
    "$a_0=1$, $a_i=a_j + a_k$, $k\\leq j < i$, последнее число $a_r=n$.*  \n",
    ">Пример: $n=63$: $a_0=1, a_1=2, a_2=3,a_3=5,a_4=7,a_5=14,a_6=28,a_7=56,a_8=63$  \n",
    "\n",
    "Обозначим $l(n) = r$ - наименьшая длина аддитивной цепочки для $n \\in \\mathbb{N}$.  \n",
    "Тогда, можно обозначить связь между аддитивными цепочками и изученными методами быстрого возведения в степень:\n",
    "> 1) Неравенство для бинарного метода SX: $l(n) \\leq \\lambda(n) + \\nu(n)-1$, где $\\lambda(n) = \\lfloor log_2 x \\rfloor$, $\\nu(n)$ - вес Хэмминга для бинарной записи $n$ (кол-во ненулевых цифр).  \n",
    "2) Для метода множителей: $l(mn)<=l(m) + l(n)$  \n",
    "3) Для m-арного метода: $l(n) \\leq m-2 + (k+1)t$, где $m=2^k$, $n=\\sum_{j=0}^t d_j*m^{t-j}$. \n",
    "\n",
    "Свойства адд. цепочек:\n",
    "> 1) Предполагаем, что цепочки строго возрастают\n",
    "2) Если $a_i = a_j, i\\neq j$, то одно из них можно удалить  \n",
    "3) Шаг $i$ - пара $(j, k)$, где $0 \\leq k \\leq j < i$  \n",
    "4) Если $\\exists > 1$ пары $(j, k)$, полагаем, что $j$ - наиб. из всех возможных.\n",
    "\n",
    "Виды шагов:\n",
    "> 1) Удвоение, $j=k=i-1$  \n",
    "2) Звёздный шаг, $j = i-1$  \n",
    "3) Малый шаг, $\\lambda(a_i)=\\lambda(a_{i-1})$, то есть кол-во знаков числа в бин. записи не увеличилось после шага.\n",
    "\n",
    "Свойства шагов:\n",
    "> 1) шаг 1 - всегда удвоение  \n",
    "2) удвоение - звёздный шаг, но не малый  \n",
    "3) за удвоением всегда следует звёздный шаг  \n",
    "4) Если $i$-ый шаг не малый, то $(i+1)$-ый шаг либо малый, либо звёздный, либо и тот, и другой  \n",
    "5) Если $(i+1)$-ый шаг ни звёздный, ни малый, то $i$-ый шаг - малый.  \n",
    "\n",
    "**Теорема:**  \n",
    ">*Если аддитивная цепочка включает $d$ удвоений и $f=r-d$ неудвоений, то $n \\leq 2^{d-1}*F_{f+3}$, где $F_i$ - $i$-ое число Фиббоначи* \n",
    "\n",
    "**Следствие:**  \n",
    "> *Если аддитивная цепочка включает в себя f удвоений и s малых шагов, то $s \\leq f \\leq \\frac{s}{1-lb(u)}$, где $u=\\frac{\\sqrt{5}+1}{2}$ - золотое сечение*\n",
    "\n",
    "***Приближённые алгоритмы нахождения аддитивных цепочек:***  \n",
    "\n",
    "**1) Алгоритм Брауэра**  \n",
    "Дано число $n \\in \\mathbb{N}$, задано число $k \\in \\mathbb{N} \\geq 2$. Тогда можно построить Брауэровскую цепочку.\n",
    "> 1) Число $n$ представляется в $m=2^k$-ичной системе счисления, обозначим его $n_m$  \n",
    "2) Создаётся базовая последовательность $1, 2, 3, ..., 2^k - 1$. Среди этих чисел будет $q_s$ - первая цифра $n_m$.   \n",
    "3) Строится еще одна последовательность $2*q_s, 4*q_s, ..., 2^k*q_s, 2^k*q_s + r_s$, где $r_s$ - вторая цифра $n_m$. Число $2^k*q_s + r_s$ обозначим за $q_{s-1}$  \n",
    "4) Аналогичные действия проводятся для $q_{s-1}$. Тогда можно описать очередной шаг алгоритма после выполнения шагов 1,2,3. Получаем новую последовательность $2*q_i, 4*q_i, ..., 2^k*q_i, 2^k*q_i + r_i$, где $r_i=(i+1)$-ая цифра $n_m$.  \n",
    "5) Шаг 4 повторяется, пока в последовательности не появится $2^k*q_1 + r_1=n$. Цепочка будет состоять из полученных в шагах 2,3,4 последовательностей чисел.\n",
    "\n",
    "**2) Алгоритм Яо**  \n",
    "Дано число $n \\in \\mathbb{N}$, задано число $k \\in \\mathbb{N} \\geq 2$.\n",
    "> 1) Число $n$ представляется в $m=2^k$-ичной системе счисления, $n=\\sum_{i=0}^{j} a_j*2^{ik}, a_j \\neq 0$    \n",
    "2) Введём функцию $d: d(z) = \\sum_{i:a_i=z} 2^{ik}$  \n",
    "3) Строится базовая последовательность $1, 2, 4, 8, ..., 2^{\\lambda(n)}$.  \n",
    "4) Вычисляются значения $d(z)$  $\\forall z \\in \\{1, 2, 3, ... , 2^k -1\\}$ и $d(z) \\neq 0 $  \n",
    "5) Вычисляются значения $z*d(z)$  $\\forall z$  \n",
    "6) В конечном итоге $n = \\sum_{z=1}^{2^k -1} zd(z)$\n",
    "\n",
    "**def** *Звездная цепочка (ЗЦ) - аддитивная цепочка, которая содержит только звёздные шаги*\n",
    "> 1) Длина звездной цепочки $l^* (n) \\leq l(n)$  \n",
    "2) Шаг звездной цепочки $a_i = a_{i-1} + a_k$ $\\forall k < i$  \n",
    "\n",
    "**def** Пусть задана звёздная цепочка длины $m-1$ вида $a_1=1,a_2,...,a_m$. *Для любой ЗЦ существует вектор индексов $r=\\{r_1, r_2, ..., r_{m-1}\\}$ длины $m-1$ такой, что $r_i = \\{z: 1 \\leq z \\leq i \\}$ и $a_i = a_{i-1} + a_{r_{i-1}}$, для $2 \\leq i \\leq m - 1$.*\n",
    "\n",
    "Сравнимость двух векторов индексов\n",
    "> Пусть даны векторы одинакового размера $r = \\{r_1, r_2, ... ,r_m\\}$, $\\tilde r = \\{\\tilde r_1, \\tilde r_2, ... ,\\tilde r_m\\}$.  \n",
    "Тогда, $r \\succ \\tilde r$, если $r_1=\\tilde r_1, r_2=\\tilde r_2, ..., r_{i-1} = \\tilde r_{i-1}, r_i > \\tilde r_i$  \n",
    "Для перехода от старшего вектора индексов к ближайшему меньшему необходимо найти самую старшую позицию, содержащую число $>1$ и уменьшить её на 1, не меняя предшествующий позиции, а последующие позиции ставятся в своё максимальное значение.\n"
   ]
  },
  {
   "cell_type": "markdown",
   "metadata": {},
   "source": [
    "## Постановка задачи\n",
    "\n",
    "Реализовать точные и приближённые алгоритмы нахождения минимальных аддитивных цепочек с использованием системы компьютерной математики SageMath, провести анализ алгоритмов. Полученные результаты содержательно проинтерпретировать."
   ]
  },
  {
   "cell_type": "markdown",
   "metadata": {},
   "source": [
    "## Выполнение работы\n"
   ]
  },
  {
   "cell_type": "markdown",
   "metadata": {},
   "source": [
    "### 0) Реализация некоторых вспомогательных функций"
   ]
  },
  {
   "cell_type": "code",
   "execution_count": 97,
   "metadata": {},
   "outputs": [],
   "source": [
    "# вспомогательная функция для перевода числа из 10чной системы счисления \n",
    "# в систему счисления с основанием base\n",
    "def base10_to_other(n, base):\n",
    "    new_base_n = []\n",
    "    while n:\n",
    "        new_base_n.append(n % base)\n",
    "        n //= base\n",
    "    return new_base_n[::-1]\n",
    "\n",
    "# кол-во цифр в бинарной записи n, уменьшенная на 1\n",
    "def _lambda(n):\n",
    "    return n.nbits()-1\n",
    "\n",
    "# вес Хэмминга - кол-во 1 в бинарной записи n\n",
    "def _vu(n):\n",
    "    return n.popcount()"
   ]
  },
  {
   "cell_type": "markdown",
   "metadata": {},
   "source": [
    "### 1) Вручную (т.е. не реализовывая алгоритм на Sage) построить последовательность вычислений для $𝑥^n$ бинарным методом и методом множителей для 2-3 значений 𝑛 (значение 𝑛 > 30 выбираются студентом самостоятельно). Сравнить количество операций для каждого метода, сделать выводы."
   ]
  },
  {
   "cell_type": "markdown",
   "metadata": {},
   "source": [
    "Построим последовательность вычислений для $x^n$ бинарным методом и методом множителей для разных значений n.  "
   ]
  },
  {
   "cell_type": "markdown",
   "metadata": {},
   "source": [
    "##### 1.1) Возьмём простое значение n = 37.  \n",
    "***Бинарный метод:***  \n",
    "Получаем запись числа n в 2-чном виде: $n=100101_2$. База: x. Выполняем дальнейшие шаги алгоритма:  \n",
    "> Используем 2ую цифру n: $(x^1)^2*x^0 = x^2$    \n",
    "Используем 3ью цифру n: $(x^2)^2*x^0 = x^4$   \n",
    "Используем 4ую цифру n: $(x^4)^2*x^1 = x^9$   \n",
    "Используем 5ую цифру n: $(x^9)^2*x^0 = x^{18}$   \n",
    "Используем 6ую цифру n: $(x^{18})^2*x^1 = x^{37}$\n",
    "\n",
    "Итого вычисление x^37 можно представить как $(((((x^2)^2)^2)*x)^2)^2*x$, выполнив 5 операций возведения в квадрат и 2 операции умножения на х.  \n",
    "\n",
    "***Метод множителей:***  \n",
    "Представляем число $n=pq$, где p - наим простой делитель n, $n, q>1$. Тогда можно вычислить $x^n=(x^p)^q$. Если n - простое, вычисляем $x^n=x^{n-1}x$. На этом основываются шаги алгоритма. Проведём их:\n",
    "> $n=37$ - простое: $x^{37}=x^{36}*x$  \n",
    "$n_1=36=2*{18}$ - н.п. делитель 2: $x^{36}=(x^2)^{18}$, положим $y=x^2$  \n",
    "$n_2=18=2*9$ - н.п. делитель 2: $y^{18}=(y^2)^9$, положим $z=y^2$  \n",
    "$n_3=9=3*3$ - н.п. делитель 3: $z^9=(z^3)^3$, положим $w=z^3=z^2*z$  \n",
    "$n_4=3$ - простое: $w^3=w^2*w$  \n",
    "\n",
    "Итого, x^37 можно вычислить за 4 операции возвезедния в квадрат и 3 операции умножения."
   ]
  },
  {
   "cell_type": "markdown",
   "metadata": {},
   "source": [
    "##### 1.2) Возьмём составное значение n = 42.  \n",
    "***Бинарный метод:***  \n",
    "Получаем запись числа n в 2-чном виде: $n=101010_2$. База: x. Выполняем дальнейшие шаги алгоритма:  \n",
    "> Используем 2ую цифру n: $(x^1)^2*x^0 = x^2$    \n",
    "Используем 3ью цифру n: $(x^2)^2*x^1 = x^5$   \n",
    "Используем 4ую цифру n: $(x^5)^2*x^0 = x^{10}$   \n",
    "Используем 5ую цифру n: $(x^{10})^2*x^1 = x^{21}$   \n",
    "Используем 6ую цифру n: $(x^{21})^2*x^0 = x^{42}$\n",
    "\n",
    "Итого вычисление $x^{42}$ можно представить как $((((((x^2)^2)*x)^2)^2*x)^2)^2$, выполнив 6 операций возведения в квадрат и 2 операции умножения на х.  \n",
    "\n",
    "***Метод множителей:***  \n",
    "Представляем число $n=pq$, где p - наим простой делитель n, $n, q>1$. Тогда можно вычислить $x^n=(x^p)^q$. Если n - простое, вычисляем $x^n=x^{n-1}x$. На этом основываются шаги алгоритма. Проведём их:\n",
    "> $n=42=2*21$ - н.п. делитель 2: $x^{42}=(x^2)^{21}$  \n",
    "$n_1=21=3*7$ - н.п. делитель 3: $x^{21}=(x^3)^{7}$, положим $y=x^3=x^2*x$  \n",
    "$n_2=7$ - простое: $y^{7}=y^6*y$ \n",
    "$n_3=6=2*3$ - н.п. делитель 2: $y^6=(y^2)^3$, положим $z=y^2$  \n",
    "$n_4=3$ - простое: $z^3=z^2*z$  \n",
    "\n",
    "Итого, x^42 можно вычислить за 4 операции возвезедния в квадрат и 3 операции умножения."
   ]
  },
  {
   "cell_type": "markdown",
   "metadata": {},
   "source": [
    "#### 1.3) Возьмём значение n = 63.  \n",
    "***Бинарный метод:***  \n",
    "Получаем запись числа n в 2-чном виде: $n=111111_2$. База: x. Выполняем дальнейшие шаги алгоритма:  \n",
    "> Используем 2ую цифру n: $(x^1)^2*x^1 = x^3$    \n",
    "Используем 3ью цифру n: $(x^3)^2*x^1 = x^7$   \n",
    "Используем 4ую цифру n: $(x^7)^2*x^1 = x^{15}$   \n",
    "Используем 5ую цифру n: $(x^{15})^2*x^1 = x^{31}$   \n",
    "Используем 6ую цифру n: $(x^{31})^2*x^1 = x^{63}$\n",
    "\n",
    "Итого вычисление $x^{63}$ можно представить как $((((x^2*x)^2*x)^2*x)^2*x)^2*x$, выполнив 5 операций возведения в квадрат и 5 операций умножения на х.  \n",
    "\n",
    "***Метод множителей:***  \n",
    "Представляем число $n=pq$, где p - наим простой делитель n, $n, q>1$. Тогда можно вычислить $x^n=(x^p)^q$. Если n - простое, вычисляем $x^n=x^{n-1}x$. На этом основываются шаги алгоритма. Проведём их:\n",
    "> $n=63=3*21$ - н.п. делитель 3: $x^{63}=(x^3)^{21}$, положим $c=x^3=x^2*x$  \n",
    "$n_1=21=3*7$ - н.п. делитель 3: $c^{21}=(c^3)^{7}$, положим $y=c^3=c^2*c$  \n",
    "$n_2=7$ - простое: $y^{7}=y^6*y$ \n",
    "$n_3=6=2*3$ - н.п. делитель 2: $y^6=(y^2)^3$, положим $z=y^2$  \n",
    "$n_4=3$ - простое: $z^3=z^2*z$  \n",
    "\n",
    "Итого, x^63 можно вычислить за 4 операции возвезедния в квадрат и 4 операции умножения."
   ]
  },
  {
   "cell_type": "markdown",
   "metadata": {},
   "source": [
    "#### 1.4) Анализ  \n",
    "Для простого числа $n=37$ метод множителей (далее - м.м.) дал меньшее количество операций возведения в квадрат, но большее количество операций умножения, хотя суммарно операций в обоих методах вышло 7.  \n",
    "\n",
    "Для составного числа $n=42$ м.м., аналогично, дал меньшее количество операций возведения в квадрат, но большее кол-во умножений, однако теперь в м.м. суммарно вышло 7 операций, когда в бинаром методе (далее - б.м.) вышло 8.  \n",
    "\n",
    "Для числа вида $2^k-1$ $n=63$ м.м. дал более оптимальный результат - 4 операции каждого типа против 5 операций каждого типа в б.м.  \n",
    "\n",
    "Из полученных результатов можно сделать вывод, что метод множителей в целом эффективние бинарного метода. Связано это с тем, что м.м. использует уже вычисленные на прошлых шагах числа в качестве множителей (например, $z^3=z^2*z$, где $z=f(f(x))$), в то время как б.м. позволяет умножения только на сам х. Однако, в методе множителей используется дополнительное действие - нахождение наименьшего простого делителя числа, что, на некоторых числах, может быть трудозатратным. Также, промежуточные результаты нужно где-то хранить - используется дополнительная память.  \n",
    "\n",
    "Чем больше \"1\" встречатся в бинарной записи числа, тем большее кол-во операций требует бинарный метод исходя из оценки $\\lambda(n)+\\nu(n)-1$. Лучше всего он работает для степеней двоек - $2^k$, и хуже всего для чисел вида $2^k-1$, так как такие числа в бинарной записи полностью состоят из единиц.\n",
    "\n",
    "Таким образом, метод множителей эффективнее бинарного метода, однако он требует дополнительной памяти и дополнительного действия - поиск наименьшего простого делителя, поэтому, иногда бинарный метод оказывается предпочтительнее."
   ]
  },
  {
   "cell_type": "markdown",
   "metadata": {},
   "source": [
    "### 2) Реализовать алгоритм Брауэра (для нечётных вариантов) и алгоритм Яо (для чётных вариантов) для вычисления приближённых аддитивных цепочек для различных чисел при варьировании параметра 𝑘, сопоставить длины полученных аддитивных цепочек с минимальной аддитивной цепочкой для заданного числа. Сделать выводы"
   ]
  },
  {
   "cell_type": "markdown",
   "metadata": {},
   "source": [
    "Реализуем алгоритм Брауэра:"
   ]
  },
  {
   "cell_type": "code",
   "execution_count": 193,
   "metadata": {},
   "outputs": [],
   "source": [
    "# красивый вывод содержательной информации об ответе и представлении n\n",
    "def pretty_print_brauer_full(n, k, brauer_ans):\n",
    "    n_new_base = base10_to_other(n, 2**k)\n",
    "    print(f\"Число n: {n}\")\n",
    "    print(f\"Число n в {2**k}-ной с.с.: {'-'.join(str(elem) for elem in n_new_base)}\")\n",
    "    pretty_print_brauer_ans(brauer_ans)\n",
    "\n",
    "# вывод длины цепочки и самой цепочки\n",
    "def pretty_print_brauer_ans(brauer_ans):\n",
    "    chain_length, chain = brauer_ans\n",
    "    print(f\"Длина адд. цеп: {chain_length}\")\n",
    "    print(\"Адд. цеп.: \", end='')\n",
    "    if chain_length < 50:\n",
    "        print(chain)\n",
    "    else:\n",
    "        # если цепочка слишком длинная - выведем начало и конец\n",
    "        print(f\"{chain[:20]}, ... ,{chain[-20:]}\")\n",
    "    \n",
    "def brauer_alg(n, k):  \n",
    "    # инициализация базы\n",
    "    n_base = 2**k\n",
    "    n_new_base = base10_to_other(n, n_base)\n",
    "    \n",
    "    max_need_number = max((i for i in n_new_base))\n",
    "    B = [i for i in range(1, max_need_number + 1)]\n",
    "    # первый шаг: q_s\n",
    "    q_s = n_new_base.pop(0)\n",
    "    B.extend((2**i * q_s for i in range(1, k+1) if 2**i * q_s not in B))\n",
    "   \n",
    "    # далее: q_i + r_i\n",
    "    q_i = B[-1]\n",
    "    n_found = False\n",
    "    while not n_found and n_new_base:\n",
    "        r_i = n_new_base.pop(0)\n",
    "        q_i += r_i\n",
    "        if r_i != 0:\n",
    "            B.append(q_i)\n",
    "        if q_i == n:\n",
    "            n_found\n",
    "            break\n",
    "            \n",
    "        B.extend(2**i * q_i for i in range(1, k+1))\n",
    "       \n",
    "        q_i = B[-1]\n",
    "    \n",
    "    # возвращаем представление числа в 2**k с.с., длину АЦ, саму АЦ\n",
    "    return len(B)-1, B"
   ]
  },
  {
   "cell_type": "code",
   "execution_count": 209,
   "metadata": {},
   "outputs": [
    {
     "name": "stdout",
     "output_type": "stream",
     "text": [
      "Число n: 67889\n",
      "Число n в 4-ной с.с.: 1-0-0-2-1-0-3-0-1\n",
      "Длина адд. цеп: 21\n",
      "Адд. цеп.: [1, 2, 3, 4, 8, 16, 32, 64, 66, 132, 264, 265, 530, 1060, 2120, 4240, 4243, 8486, 16972, 33944, 67888, 67889]\n"
     ]
    }
   ],
   "source": [
    "# пример ответа алгоритма\n",
    "n, k= 67889, 2\n",
    "ans = brauer_alg(n, k)\n",
    "pretty_print_brauer_full(n, k, ans)"
   ]
  },
  {
   "cell_type": "markdown",
   "metadata": {},
   "source": [
    "Теперь исследуем влияние параметра k на ответ:"
   ]
  },
  {
   "cell_type": "code",
   "execution_count": 192,
   "metadata": {
    "scrolled": false
   },
   "outputs": [
    {
     "name": "stdout",
     "output_type": "stream",
     "text": [
      "Влияние параметра k на длину аддитивной цепочки для n = 37894389\n"
     ]
    },
    {
     "data": {
      "image/png": "[encoded data removed]",
      "text/plain": [
       "Graphics object consisting of 2 graphics primitives"
      ]
     },
     "metadata": {},
     "output_type": "display_data"
    },
    {
     "name": "stdout",
     "output_type": "stream",
     "text": [
      "Те же значения, но рассматриваем от 2 до 5\n"
     ]
    },
    {
     "data": {
      "image/png": "[encoded data removed]",
      "text/plain": [
       "Graphics object consisting of 2 graphics primitives"
      ]
     },
     "metadata": {},
     "output_type": "display_data"
    },
    {
     "name": "stdout",
     "output_type": "stream",
     "text": [
      "Влияние параметра k на длину аддитивной цепочки для n = 47839948409834683717134578679\n"
     ]
    },
    {
     "data": {
      "image/png": "[encoded data removed]",
      "text/plain": [
       "Graphics object consisting of 2 graphics primitives"
      ]
     },
     "metadata": {},
     "output_type": "display_data"
    },
    {
     "name": "stdout",
     "output_type": "stream",
     "text": [
      "Те же значения, но рассматриваем от 2 до 5\n"
     ]
    },
    {
     "data": {
      "image/png": "[encoded data removed]",
      "text/plain": [
       "Graphics object consisting of 2 graphics primitives"
      ]
     },
     "metadata": {},
     "output_type": "display_data"
    },
    {
     "name": "stdout",
     "output_type": "stream",
     "text": [
      "Влияние параметра k на длину аддитивной цепочки для n = 3840239819027432814678129435532539734242319083214579879680809\n"
     ]
    },
    {
     "data": {
      "image/png": "[encoded data removed]",
      "text/plain": [
       "Graphics object consisting of 2 graphics primitives"
      ]
     },
     "metadata": {},
     "output_type": "display_data"
    },
    {
     "name": "stdout",
     "output_type": "stream",
     "text": [
      "Те же значения, но рассматриваем от 2 до 5\n"
     ]
    },
    {
     "data": {
      "image/png": "[encoded data removed]",
      "text/plain": [
       "Graphics object consisting of 2 graphics primitives"
      ]
     },
     "metadata": {},
     "output_type": "display_data"
    }
   ],
   "source": [
    "def test_k_influence(n):\n",
    "    k_values = range(2, 10)\n",
    "    chain_len_values = tuple((k, brauer_alg(n, k)[0]) for k in k_values)\n",
    "    print(f\"Влияние параметра k на длину аддитивной цепочки для n = {n}\")\n",
    "    plt = list_plot(chain_len_values, plotjoined=True, linestyle='--', color='indigo') + \\\n",
    "            list_plot(chain_len_values, color='red',size=20)\n",
    "    plt.show()\n",
    "\n",
    "    k_values = range(2, 6)\n",
    "    print(f'Те же значения, но рассматриваем от {k_values[0]} до {k_values[-1]}')\n",
    "    chain_len_values = tuple((k, brauer_alg(n, k)[0]) for k in k_values)\n",
    "\n",
    "    plt = list_plot(chain_len_values, plotjoined=True, linestyle='--', color='indigo') + \\\n",
    "            list_plot(chain_len_values, color='red',size=20)\n",
    "    plt.show()\n",
    "\n",
    "n_values = (37894389,\n",
    "            47839948409834683717134578679, \n",
    "            3840239819027432814678129435532539734242319083214579879680809,\n",
    "           )\n",
    "for n_i in n_values:\n",
    "    test_k_influence(n_i)"
   ]
  },
  {
   "cell_type": "markdown",
   "metadata": {},
   "source": [
    "Как можно заметить, существует некоторое оптимальное значение k, после которого длина заданной цепочки растёт практически экспоненциально. Это связано с тем, что алгоритм Брауэра требует исползование базовой последовательности $1,2,3,...,2^k-1$. Несмотря на используемую оптимизацию этой последовательности $1,2,3,...max\\{q_s, r_i\\}$ (более подробно в пунтке 5), она сильно увеличивается с ростом k. И в целом, при приближении $2^k$ к $n$ последовательность вырождается в последовательность натуральных чисел.\n",
    "\n",
    "Какое именно значение k оптимальное? Для сравнительно небольших n подходящие значения $k = 2$ или $k=3$. По теореме Брауэра, при значении $k = \\lambda\\lambda(n) - 2\\lambda\\lambda\\lambda(n)$ для больших n длина цепочки будет минимизироваться."
   ]
  },
  {
   "cell_type": "markdown",
   "metadata": {},
   "source": [
    "Теперь исследуем ответ алгоритма и фактическую длину минимальной цепочки для n."
   ]
  },
  {
   "cell_type": "code",
   "execution_count": 88,
   "metadata": {},
   "outputs": [
    {
     "name": "stdout",
     "output_type": "stream",
     "text": [
      "Для 119 минимальное = 9, полученное = 10\n",
      "Для 1085 минимальное = 13, полученное = 14\n",
      "Для 2091 минимальное = 14, полученное = 15\n",
      "Для 12347 минимальное = 17, полученное = 17\n",
      "Для 16032 минимальное = 17, полученное = 18\n",
      "Для 109784 минимальное = 21, полученное = 23\n",
      "Для 397843 минимальное = 23, полученное = 24\n"
     ]
    }
   ],
   "source": [
    "n_values = [119, 1085, 2091, 12347, 16032, 109784, 397843]\n",
    "exact_lens = [9, 13, 14, 17, 17, 21, 23]\n",
    "alg_lens = [min(brauer_alg(n_value, 1)[0], brauer_alg(n_value, 2)[0], brauer_alg(n_value, 3)[0])\n",
    "            for n_value in n_values]\n",
    "\n",
    "for n_i, exact_i, alg_i in zip(n_values, exact_lens, alg_lens):\n",
    "    print(f\"Для {n_i} минимальное = {exact_i}, полученное = {alg_i}\")\n"
   ]
  },
  {
   "cell_type": "markdown",
   "metadata": {},
   "source": [
    "Как можно заметить, алгоритм Брауэра в основном даёт не минимальную длину цепочки, однако достаточно близок к ней. Основной плюс алгоритма Брауэра - быстродействие, разложение даже достаточно больших чисел занимает небольшое количество времени, так как, по сути, алгоритм имеет $m=log_{2^k}(n)$ шагов (для каждой из цифр строится последовательность и итоговые последовательности склеиваются), в каждом из которых строится список из k+2 элементов. \n",
    "\n",
    "В итоге, алгоритм Брауэра работает быстро и даёт приближённый (по минимальности длины цепочки) ответ. Ответ сильно зависит от правильного выбора параметра k."
   ]
  },
  {
   "cell_type": "markdown",
   "metadata": {},
   "source": [
    "### 3) Реализовать алгоритм дробления вектора индексов для нахождения минимальной звёздной цепочки для заданного числа. Протестировать алгоритм минимум для 5 значений 𝑛 > 1000. Указать, сколько времени потребовалось на поиск цепочки и какая цепочка получилась. Сравнить с предыдущими методами, сделать выводы."
   ]
  },
  {
   "cell_type": "code",
   "execution_count": 132,
   "metadata": {},
   "outputs": [],
   "source": [
    "def decrease_indexes_vector(indexes_vector, m_max):\n",
    "    # returns has vector changed or not\n",
    "    if indexes_vector[-1] > 1:\n",
    "        indexes_vector[-1] -= 1\n",
    "    else:\n",
    "        i = -1\n",
    "        while i != -m_max - 1 and indexes_vector[i] == 1:\n",
    "            i -= 1\n",
    "        if i == -m_max - 1:\n",
    "            return False\n",
    "        indexes_vector[i] -= 1\n",
    "        indexes_vector[i+1:] = [max_val+1 for max_val in range(m_max + i + 1, m_max)]\n",
    "    return True\n",
    "\n",
    "def get_chain_from_indexes_vector(indexes_vector):\n",
    "    chain = [1]\n",
    "    for index in indexes_vector:\n",
    "        index = index-1\n",
    "        chain.append(chain[-1] + chain[index])\n",
    "    return chain\n",
    "\n",
    "def vector_fragmentation_alg(n):\n",
    "    n_2_base = base10_to_other(n, 2)\n",
    "    \n",
    "    m_lower_bound = ceil(log(n, 2))\n",
    "    m_upper_bound = _lambda(n) + _vu(n) - 1\n",
    "        \n",
    "    if m_lower_bound == m_upper_bound == 0:\n",
    "        return [1]\n",
    "    if m_lower_bound == m_upper_bound == 1:\n",
    "        return [1, 2]\n",
    "\n",
    "    for m in range(m_lower_bound, m_upper_bound+1):\n",
    "        q = m//2\n",
    "        fixed_part = list(max_val for max_val in range(1, q+1))\n",
    "\n",
    "        a = get_chain_from_indexes_vector(fixed_part)[-1]\n",
    "        a_min = a + m - q\n",
    "        a_max = a*2**(m-q)\n",
    "        \n",
    "        # делаем так, чтобы на первой итерации получить цепочку от исходного вектора,\n",
    "        # т.к. decrease_indexes_vector уменьшает вектор.\n",
    "        fixed_part[-1] += 1\n",
    "        while decrease_indexes_vector(fixed_part, len(fixed_part)):\n",
    "            if a_min <= n <= a_max:\n",
    "                if a_min == n:\n",
    "                    return get_chain_from_indexes_vector(fixed_part + [1 for _ in range (q+1, m+1)])\n",
    "                if a_max == n:\n",
    "                    return get_chain_from_indexes_vector(fixed_part + [elem for elem in range (q+1, m+1)])\n",
    "\n",
    "                \n",
    "                changing_part = list(max_val for max_val in range(q+1, m+1))\n",
    "                # делаем так, чтобы на первой итерации получить цепочку от исходного вектора,\n",
    "                # т.к. decrease_indexes_vector уменьшает вектор.\n",
    "                changing_part[-1] += 1\n",
    "                count = 0\n",
    "                while decrease_indexes_vector(changing_part, len(fixed_part)):\n",
    "                    chain = get_chain_from_indexes_vector(fixed_part + changing_part)\n",
    "                    if chain[-1] == n:\n",
    "                        return chain\n",
    "            # если n не попало в диапозон значений последнего элемента цепочки данных векторов        \n",
    "            else:\n",
    "                continue\n",
    "    # если цепочка не нашлась - ошибка в алгоритме\n",
    "    raise ValueError(f\"{n} - не нашёлся ответ\")\n",
    "    "
   ]
  },
  {
   "cell_type": "code",
   "execution_count": 61,
   "metadata": {},
   "outputs": [
    {
     "name": "stdout",
     "output_type": "stream",
     "text": [
      "time: 113.97660398483276, chain: [1, 2, 4, 8, 16, 32, 64, 65, 130, 260, 520, 1040, 1105, 1109, 1111]\n",
      "time: 51.7018609046936, chain: [1, 2, 4, 8, 16, 17, 33, 66, 132, 264, 528, 1056, 1073, 1075]\n",
      "time: 108.44448924064636, chain: [1, 2, 4, 8, 16, 32, 64, 128, 256, 512, 1024, 2048, 2080, 2088, 2089]\n",
      "time: 346.8754346370697, chain: [1, 2, 4, 8, 12, 13, 26, 52, 104, 208, 416, 832, 1664, 1690, 1703]\n",
      "time: 116.73165917396545, chain: [1, 2, 4, 8, 16, 32, 48, 56, 112, 224, 448, 896, 1792, 1840, 1888]\n"
     ]
    }
   ],
   "source": [
    "import time \n",
    "\n",
    "n_values = [1111, 1075, 2089, 1703, 1888]\n",
    "for n in n_values:\n",
    "    start = time.time()\n",
    "    chain=vector_fragmentation_alg(n)\n",
    "    print(f\"time: {time.time() - start}, chain: {chain}\")"
   ]
  },
  {
   "cell_type": "markdown",
   "metadata": {},
   "source": [
    "Было проверено, что для $n=1111$ и $n=2089$ минимальные цепочки имеют длину $=14$, такую же, как и в ответе алгоритма. Таким образом, алгоритм дробления вектора индексов даёт более точный ответ, чем алгоритм Брауэра.\n",
    "\n",
    "При этом алгоритм дробления работает заметно медленнее алгоритма Брауэра, так как является, по сути, оптимизированным перебором. В худшем случае нужно сделать перебор $m_{up}$ значений длин цепочек, где $m_{up}$ - некоторая верхняя граница. Однако, за счёт оптимизации выбора диапазона значений $m$ алгоритм работает быстрее и перебирает только $m_{up}-m_{low}+1$ значений длин, где $m_{up}$ и $m_{low}$ - некоторые верхняя и нижняя границы. Однако сложность каждого шага составляет $O(\\frac{m!}{q!})$ - перебор меняющейся части, так что сложность алгоритма растёт экспоненциально."
   ]
  },
  {
   "cell_type": "markdown",
   "metadata": {},
   "source": [
    "### 4) Проверить гипотезу Шольца–Брауэра для всех натуральных $1 \\leq 𝑛 \\leq 12$ на алгоритме дробления вектора индексов. Результаты оформить в виде таблицы. Сделать выводы."
   ]
  },
  {
   "cell_type": "markdown",
   "metadata": {},
   "source": [
    "Гипотеза Шольца-Брауэра заключается в том, что $l(2^n-1) \\leq l(n) + n - 1$. Гипотеза доказана для звёздных цепочек и для $1 \\leq n \\leq 64$ выполняется равенство. Для $n < 12509$ есть равенство мин.  длин цепочек $l(n)=l^*(n)$."
   ]
  },
  {
   "cell_type": "markdown",
   "metadata": {},
   "source": [
    "Проверим данную гипотезу для $1 \\leq n \\leq 12$:"
   ]
  },
  {
   "cell_type": "code",
   "execution_count": 60,
   "metadata": {},
   "outputs": [
    {
     "name": "stdout",
     "output_type": "stream",
     "text": [
      "Проверка равенства l(2^n - 1) == l(n) + n - 1\n",
      "n = 1: 0 == 0 + 1 - 1\n",
      "n = 2: 2 == 1 + 2 - 1\n",
      "n = 3: 4 == 2 + 3 - 1\n",
      "n = 4: 5 == 2 + 4 - 1\n",
      "n = 5: 7 == 3 + 5 - 1\n",
      "n = 6: 8 == 3 + 6 - 1\n",
      "n = 7: 10 == 4 + 7 - 1\n",
      "n = 8: 10 == 3 + 8 - 1\n",
      "n = 9: 12 == 4 + 9 - 1\n",
      "n = 10: 13 == 4 + 10 - 1\n",
      "n = 11: 15 == 5 + 11 - 1\n",
      "n = 12: 15 == 4 + 12 - 1\n"
     ]
    }
   ],
   "source": [
    "n_values = (i for i in range(1, 13))\n",
    "print(f\"Проверка равенства l(2^n - 1) == l(n) + n - 1\")\n",
    "for n in n_values:\n",
    "    print(f\"n = {n}: {len(vector_fragmentation_alg(2**n - 1)) - 1}\" \n",
    "          f\"== {len(vector_fragmentation_alg(n)) - 1} + {n} - 1\")"
   ]
  },
  {
   "cell_type": "markdown",
   "metadata": {},
   "source": [
    "Оформим полученный результат в виде таблицы:\n",
    "\n",
    "| n  | l(2^n-1) | == | l(n)+n-1 |\n",
    "|----|----------|----|----------|\n",
    "| 1  | 0        | == | 0+1-1    |\n",
    "| 2  | 2        | == | 1+2-1    |\n",
    "| 3  | 4        | == | 2+3-1    |\n",
    "| 4  | 5        | == | 2+4-1    |\n",
    "| 5  | 7        | == | 3+5-1    |\n",
    "| 6  | 8        | == | 3+6-1    |\n",
    "| 7  | 10       | == | 4+7-1    |\n",
    "| 8  | 10       | == | 3+8-1    |\n",
    "| 9  | 12       | == | 4+9-1    |\n",
    "| 10 | 13       | == | 4+10-1   |\n",
    "| 11 | 15       | == | 5+11-1   |\n",
    "| 12 | 15       | == | 4+12-1   |"
   ]
  },
  {
   "cell_type": "markdown",
   "metadata": {},
   "source": [
    "Таким образом, была проверена гипотеза Шольца-Брауэра для $1 \\leq n \\leq 12$ и, действительно, для данных $n$ выполняется равенство $l(2^n-1)=l(n)+n-1$. Для вычисления чисел вида $2^n-1$ можно однозначно определить длину минимальной цепочки, она $=l(n)+n-1$. Данное равенство выполняется для $1 \\leq n \\leq 64$. Для остальных $n$ $l(n)+n-1$ является верхней оценкой."
   ]
  },
  {
   "cell_type": "markdown",
   "metadata": {},
   "source": [
    "### 5) Найти или предложить собственные модификации алгоритмов и привести описание модификаций. Реализовать модифицированные алгоритмы и сравнить их мощность."
   ]
  },
  {
   "cell_type": "markdown",
   "metadata": {},
   "source": [
    "При реализации алгоритма Брауэра были использованы следующие оптимизации:\n",
    "> 1) Начальная последовательность не $1, 2, 3, ..., 2^k -1$, а $1, 2, ..., b$, где $b$ - максимальная цифра числа в системе счисления $2^k$  \n",
    "2) Не дублируются числа, которые получаются прибавление $r_i=0$.\n",
    "\n",
    "Данные оптимизации позволяют сократить длину брауэровской цепочки. Однако, данные оптимизации достаточно просты и подробно их рассматривать не будем."
   ]
  },
  {
   "cell_type": "markdown",
   "metadata": {},
   "source": [
    "Интереснее будет рассмотреть модифицации алгоритма дробления векторов и их влияние на трудоёмкость алгоритма.\n",
    "> 1) Использование специальных свойств переданных чисел для выбора оптимального диапазона длин цепочек $m_{min}$ и $m_{max}$. \n",
    ">> 1.1) $\\forall n: \\nu(n)=2$ выполняется $l(2^A+2^B)=A+1$, если $A>B$  \n",
    ">> 1.2) $\\forall n: \\nu(n)=3$ выполняется $l(2^A+2^B+2^C)=A+2$, если $A>B>C$  \n",
    ">> 1.3) $\\forall n: \\nu(n)\\geq4$ ?  \n",
    ">> 1.4) $\\forall n: \\nu(n)>8$ выполняется $l(n)\\geq \\lambda(n)+ 4$  \n",
    "\n",
    "> 2) По следствию из теоремы Брауэра $l(n) \\leq \\lambda(n)(1+\\frac{1}{\\lambda\\lambda(n)}+O(\\frac{\\lambda\\lambda\\lambda(n)}{(\\lambda\\lambda(n))^2})$. Будем использовать $l(n) \\leq \\lambda(n)(3+\\frac{1}{\\lambda\\lambda(n)})$  \n",
    "\n",
    "Проверим, насколько хороша оценка из пункта 2. Допустим, рассматриваемые $4 < n < 10000$. Для $n=1,2,3$ в делителе 0. Тогда найдём максимальный из остатков:"
   ]
  },
  {
   "cell_type": "code",
   "execution_count": 124,
   "metadata": {},
   "outputs": [
    {
     "data": {
      "text/plain": [
       "7/4"
      ]
     },
     "execution_count": 124,
     "metadata": {},
     "output_type": "execute_result"
    }
   ],
   "source": [
    "remainder = max(_lambda(_lambda(_lambda(n)))/((_lambda(_lambda(n)))^2) * _lambda(n) \n",
    "                for n in IntegerRange(4,10001))\n",
    "remainder"
   ]
  },
  {
   "cell_type": "markdown",
   "metadata": {},
   "source": [
    "Соответственно, остаток $O(\\frac{\\lambda\\lambda\\lambda(n)}{(\\lambda\\lambda(n))^2}) \\leq 7/4 \\leq 2$, тем самым доказав оценку 2).\n",
    "\n",
    "Теперь реализуем сам модифицированный алгоритм:"
   ]
  },
  {
   "cell_type": "code",
   "execution_count": 133,
   "metadata": {},
   "outputs": [],
   "source": [
    "def get_m_bounds(n):\n",
    "    m_lower_bound = ceil(log(n, 2))\n",
    "    m_upper_bound = min(_lambda(n) + _vu(n) - 1, \n",
    "                        _lambda(n)*(3 + 1/(_lambda(_lambda(n))))\n",
    "                       )\n",
    "    hamming_weigth = _vu(n)\n",
    "    if hamming_weigth == 1:\n",
    "        # 2^_lambda(n) == n\n",
    "        m_lower_bound = m_upper_bound = _lambda(n)\n",
    "    elif hamming_weigth == 2:\n",
    "        m_lower_bound = m_upper_bound = _lambda(n) + 1\n",
    "    elif hamming_weigth == 3:\n",
    "        m_lower_bound = m_upper_bound = _lambda(n) + 2\n",
    "    elif hamming_weigth > 8:\n",
    "        m_lower_bound = _lambda(n) + 4\n",
    "    return m_lower_bound, m_upper_bound\n",
    "        \n",
    "def vector_fragmentation_alg_optimized(n):\n",
    "    n_2_base = base10_to_other(n, 2)\n",
    "    \n",
    "    m_lower_bound, m_upper_bound = get_m_bounds(n)\n",
    "        \n",
    "    if m_lower_bound == m_upper_bound == 0:\n",
    "        return [1]\n",
    "    if m_lower_bound == m_upper_bound == 1:\n",
    "        return [1, 2]\n",
    "\n",
    "    for m in range(m_lower_bound, m_upper_bound+1):\n",
    "        q = m//2\n",
    "        fixed_part = list(max_val for max_val in range(1, q+1))\n",
    "\n",
    "        a = get_chain_from_indexes_vector(fixed_part)[-1]\n",
    "        a_min = a + m - q\n",
    "        a_max = a*2**(m-q)\n",
    "        \n",
    "        # do so on 1st iter we get tuple as it was\n",
    "        fixed_part[-1] += 1\n",
    "        while decrease_indexes_vector(fixed_part, len(fixed_part)):\n",
    "            if a_min <= n <= a_max:\n",
    "                if a_min == n:\n",
    "                    return get_chain_from_indexes_vector(fixed_part + [1 for _ in range (q+1, m+1)])\n",
    "                if a_max == n:\n",
    "                    return get_chain_from_indexes_vector(fixed_part + [elem for elem in range (q+1, m+1)])\n",
    "\n",
    "                # do so on 1st iter we get tuple as it was\n",
    "                changing_part = list(max_val for max_val in range(q+1, m+1))\n",
    "                changing_part[-1] += 1\n",
    "                count = 0\n",
    "                \n",
    "                while decrease_indexes_vector(changing_part, len(fixed_part)):\n",
    "                    chain = get_chain_from_indexes_vector(fixed_part + changing_part)\n",
    "                    if chain[-1] == n:\n",
    "                        return chain\n",
    "            # если n не попало в диапозон значений последнего элемента цепочки данных векторов        \n",
    "            else:\n",
    "                continue\n",
    "    # если цепочка не нашлась - ошибка в алгоритме\n",
    "    raise ValueError(f\"{n} - не нашёлся ответ\")\n",
    "    "
   ]
  },
  {
   "cell_type": "markdown",
   "metadata": {},
   "source": [
    "Рассмотрим, как проведенные модификации сказались на диапазоне длины цепочек:"
   ]
  },
  {
   "cell_type": "code",
   "execution_count": 179,
   "metadata": {},
   "outputs": [
    {
     "name": "stdout",
     "output_type": "stream",
     "text": [
      "n=2048: старый диапазон [11,11] оптимизированный диапазон [11, 11]\n",
      "n=2080: старый диапазон [12,12] оптимизированный диапазон [12, 12]\n",
      "n=1072: старый диапазон [11,12] оптимизированный диапазон [12, 12]\n",
      "n=2047: старый диапазон [11,20] оптимизированный диапазон [14, 20]\n",
      "n=1728: старый диапазон [11,13] оптимизированный диапазон [11, 13]\n",
      "n=1983: старый диапазон [11,19] оптимизированный диапазон [14, 19]\n",
      "n=1111: старый диапазон [11,15] оптимизированный диапазон [11, 15]\n",
      "n=511: старый диапазон [9,16] оптимизированный диапазон [12, 16]\n",
      "n=1023: старый диапазон [10,18] оптимизированный диапазон [13, 18]\n"
     ]
    }
   ],
   "source": [
    "n_values = [2048, 2048+32, 1024+32+16, 2048-1, 1728, 1983, 1111, 512-1,1024-1]\n",
    "\n",
    "for n in n_values:\n",
    "    m_lower_bound = ceil(log(n, 2))\n",
    "    m_upper_bound = _lambda(n) + _vu(n) - 1\n",
    "\n",
    "    m_lower_bound_opt, m_upper_bound_opt = get_m_bounds(n)\n",
    "    print(f\"n={n}: старый диапазон [{m_lower_bound},{m_upper_bound}]\"\n",
    "          f\" оптимизированный диапазон [{m_lower_bound_opt}, {m_upper_bound_opt}]\")"
   ]
  },
  {
   "cell_type": "markdown",
   "metadata": {},
   "source": [
    "Как можно заметить, проведённые оптимизации позволили уменьшить рассматриваемый диапазон значений. Теперь сравним, насколько быстрее работает алгоритм для значений $n=\\{1072,511, 1023\\}$"
   ]
  },
  {
   "cell_type": "code",
   "execution_count": 180,
   "metadata": {},
   "outputs": [
    {
     "name": "stdout",
     "output_type": "stream",
     "text": [
      "n=1072 Не опт: время 2.11030912399292, длина 12\n",
      "n=1072 Опт: время 0.0012135505676269531, длина 12\n",
      "n=511 Не опт: время 10.36326813697815, длина 12\n",
      "n=511 Опт: время 6.6806230545043945, длина 12\n",
      "n=1023 Не опт: время 122.99211955070496, длина 13\n",
      "n=1023 Опт: время 47.003913164138794, длина 13\n"
     ]
    }
   ],
   "source": [
    "n_values = [1072, 511, 1023]\n",
    "\n",
    "for n in n_values:\n",
    "    start = time.time()\n",
    "    chain_len = len(vector_fragmentation_alg(n)) - 1\n",
    "    print(f\"n={n} Не опт: время {time.time()-start}, длина {chain_len}\")\n",
    "\n",
    "\n",
    "    start = time.time()\n",
    "    chain_len = len(vector_fragmentation_alg_optimized(n)) - 1\n",
    "    print(f\"n={n} Опт: время {time.time()-start}, длина {chain_len}\")"
   ]
  },
  {
   "cell_type": "markdown",
   "metadata": {},
   "source": [
    "Таким образом, модифицированный алгоритм на некоторых значениях $n$ работает быстрее, чем алгоритм без модификаций."
   ]
  },
  {
   "cell_type": "markdown",
   "metadata": {},
   "source": [
    "## Выводы\n",
    "\n",
    "В ходе практической работы были сравнены алгоритмы быстрого возведения в степень - метод множителей и бинарный метод.\n",
    "\n",
    "Также, были реализованы алгоритм Брауэра для нахождения аддитивной цепочки и алгоритм дробления вектора индексов для поиска минимальной звездной цепочки. Был проведен анализ данных алгоритмов, после чего было выяснено, что алгоритм Брауэра позволяет быстро найти аддитивную цепочку для числа $n$, однако она не обязательно будет минимальной, также, на результат работы алгоритма влияет выбор параметра $k$. Алгоритм дробления вектора индексов работает дольше, так как по сути является оптимизированным перебором, зато дает минимальную звездную цепочку, которая по длине совпадает с минимальной аддитивной для $n < 12509$. "
   ]
  }
 ],
 "metadata": {
  "kernelspec": {
   "display_name": "SageMath 9.2",
   "language": "sage",
   "name": "sagemath"
  },
  "language_info": {
   "codemirror_mode": {
    "name": "ipython",
    "version": 3
   },
   "file_extension": ".py",
   "mimetype": "text/x-python",
   "name": "python",
   "nbconvert_exporter": "python",
   "pygments_lexer": "ipython3",
   "version": "3.9.7"
  }
 },
 "nbformat": 4,
 "nbformat_minor": 4
}
