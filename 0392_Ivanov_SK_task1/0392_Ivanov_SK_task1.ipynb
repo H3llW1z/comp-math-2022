{
 "cells": [
  {
   "cell_type": "markdown",
   "metadata": {},
   "source": [
    "Работу выполнил \n",
    "Иванов Серафим Кириллович 0392, варинат 72"
   ]
  },
  {
   "cell_type": "markdown",
   "metadata": {},
   "source": [
    "## Цель работы\n",
    "Формирование представления о аддитивных цепочках, выработать умение составлять и применять алгоритмы для нахождения минимальных\n",
    "аддитивных цепочек для заданного числа, привить навык использования\n",
    "систем компьютерной математики для реализации алгоритмов."
   ]
  },
  {
   "cell_type": "markdown",
   "metadata": {},
   "source": [
    "## Постановка задачи\n",
    "Реализовать точные и приближённые алгоритмы нахождения минимальных аддитивных цепочек с использованием системы компьютерной математики SageMath, провести анализ алгоритмов. Полученные результаты\n",
    "содержательно проинтерпретировать."
   ]
  },
  {
   "cell_type": "markdown",
   "metadata": {},
   "source": [
    "## 1)  Построим несколько цепочек для $n \\geqslant 30$ вручную\n",
    "\n",
    "$ n = 1350 $\n",
    "* Бинарный метод: \n",
    "$n = 10101000110_2$\n",
    "\n",
    "Действие | К-во операций\n",
    "--- | --- \n",
    "$(x)^2x^0 = x^2$ | 1\n",
    "$(x)^2x = x^5$ | 2\n",
    "$(x^5)^2x^0 = x^{10}$ | 1\n",
    "$(x^{10})^2x = x^{21}$ | 2\n",
    "$(x^{21})^2x^0 = x^{42}$ | 1\n",
    "$(x^{42})^2x^0 = x^{84}$ | 1\n",
    "$(x^{84})^2x^0 = x^{168}$ | 1\n",
    "$(x^{186})^2x = x^{337}$ | 2\n",
    "$(x^{337})^2x = x^{675}$ | 2\n",
    "$(x^{675})^2x^0 = x^{1350}$ | 1\n",
    "\n",
    "Итого $k = 14$\n",
    "\n",
    "* Метод множителей:\n",
    "$ n = 1350 = 2\\cdot3^3\\cdot5^2$\n",
    "$x^n = (((((x^5)^5)^3)^3)^3)^2$\n",
    "откуда количество операций $k = 13$\n",
    "\n",
    "n = 1001\n",
    "* Бинарный метод:\n",
    "$n = 1111101001_2$\n",
    "\n",
    "Действие | К-во операций\n",
    "--- | --- \n",
    "$(x)^2x = x^3$ | 2\n",
    "$(x^3)^2x = x^7$ | 2\n",
    "$(x^7)^2x = x^{15}$ | 2\n",
    "$(x^{15})^2x = x^{31}$ | 2\n",
    "$(x^{31})^2x^0 = x^{62}$ | 1\n",
    "$(x^{62})^2x = x^{125}$ | 2\n",
    "$(x^{125})^2x^0 = x^{250}$ | 1\n",
    "$(x^{250})^2x^0 = x^{500}$ | 1\n",
    "$(x^{500})^2x = x^{1001}$ | 2\n",
    "\n",
    "Итого $k = 15$\n",
    "* Метод множителей:\n",
    "$n = 1001 = 7\\cdot11\\cdot13 = (1 + 2\\cdot3)(1+2\\cdot5)(1+2^2\\cdot3)$\n",
    "\n",
    "Итого $k = 13$\n",
    "\n",
    "Выводы:\n",
    "* В среднем метод множителей несколько оптимальнее\n",
    "* Не всегда метод множителей дает лучший результат, контрпример - 33\n",
    "* Бинарный метод легко реализуем, а результаты не сильно отличются от глобально более оптимального метода множителей. Это делает его применимым."
   ]
  },
  {
   "cell_type": "markdown",
   "metadata": {},
   "source": [
    "## 2) Алгоритм Брауера"
   ]
  },
  {
   "cell_type": "code",
   "execution_count": 21,
   "metadata": {},
   "outputs": [],
   "source": [
    "def Brauer(N, k):\n",
    "    generate = []\n",
    "    syst = []\n",
    "    chain = []   \n",
    "    tmpN = N\n",
    "    p = 2**k\n",
    "    syst.append([N, 0])\n",
    "    while tmpN >= p:\n",
    "        syst.append([tmpN//p, tmpN % p])\n",
    "        tmpN //= p\n",
    "    n = 1\n",
    "    chain.append(n)\n",
    "    last = len(syst) - 1\n",
    "    while n < syst[last][0]:\n",
    "        n += 1\n",
    "        chain.append(n)\n",
    "    last -= 1\n",
    "    while n != N:\n",
    "        if last < 0:\n",
    "            print(\"There are some problem here...\")\n",
    "        while 2*n <= syst[last][0]:\n",
    "            n *= 2\n",
    "            chain.append(n)\n",
    "        n += syst[last + 1][1]\n",
    "        chain.append(n)\n",
    "        last -= 1\n",
    "    del(chain[-1])\n",
    "    return chain"
   ]
  },
  {
   "cell_type": "code",
   "execution_count": 22,
   "metadata": {},
   "outputs": [
    {
     "name": "stdout",
     "output_type": "stream",
     "text": [
      "[1, 2, 4, 8, 16, 32, 64, 128, 256, 512, 1024]\n",
      "Len of chain is 11\n"
     ]
    }
   ],
   "source": [
    "# построим какую-то цепочку для проверки\n",
    "N = 1024\n",
    "k = 9\n",
    "lst = Brauer(N, k)\n",
    "print(lst)\n",
    "print(\"Len of chain is\", len(lst))"
   ]
  },
  {
   "cell_type": "markdown",
   "metadata": {},
   "source": [
    "output:\n",
    "\n",
    "    [1, 2, 4, 8, 16, 32, 64, 128, 256, 512, 1024]\n",
    "    Len of chain is 12"
   ]
  },
  {
   "cell_type": "code",
   "execution_count": 23,
   "metadata": {},
   "outputs": [
    {
     "name": "stdout",
     "output_type": "stream",
     "text": [
      "min len is 15 assuming k = 14\n"
     ]
    },
    {
     "data": {
      "image/png": "[encoded data removed]",
      "text/plain": [
       "Graphics object consisting of 1 graphics primitive"
      ]
     },
     "metadata": {},
     "output_type": "display_data"
    }
   ],
   "source": [
    "# проаналиируем зависимоать длины цепочки от k\n",
    "# N менять\n",
    "N = 31415\n",
    "lst = []\n",
    "for i in range(2, 30):\n",
    "    lst.append(len(Brauer(N, i)))\n",
    "print(\"min len is\", min(lst), \"assuming k =\", lst.index(min(lst)) + 2)\n",
    "\n",
    "g = point((i , lst[i - 2]) for i in range (2, 3 + lst.index(min(lst))))\n",
    "g.show()"
   ]
  },
  {
   "cell_type": "markdown",
   "metadata": {},
   "source": [
    "Согласно теории, оптимальное k для достаточно больших n опрелеляется, как k = λλ(n) - 2λλλ(n).\n",
    "Проверим это"
   ]
  },
  {
   "cell_type": "code",
   "execution_count": 182,
   "metadata": {},
   "outputs": [
    {
     "name": "stdout",
     "output_type": "stream",
     "text": [
      "min len is 269 assuming k = 6\n",
      "theory says that the minimum is reached assuming k = 4.873151751064757\n"
     ]
    }
   ],
   "source": [
    "n = 1618033992434567890309877765443276543456784345678903456789098765432567\n",
    "kk = math.log2(math.log2(n)) - math.log2(math.log2(math.log2(n)))\n",
    "lst = []\n",
    "for i in range(2, 10):\n",
    "    lst.append(len(Brauer(n, i)))\n",
    "print(\"min len is\", min(lst), \"assuming k =\", lst.index(min(lst)) + 2)\n",
    "print(\"theory says that the minimum is reached assuming k =\", kk)"
   ]
  },
  {
   "cell_type": "markdown",
   "metadata": {},
   "source": [
    "output:\n",
    "\n",
    "    min len is 269 assuming k = 6\n",
    "    theory says that the minimum is reached assuming k = 4.873151751064757"
   ]
  },
  {
   "cell_type": "code",
   "execution_count": 183,
   "metadata": {},
   "outputs": [
    {
     "name": "stdout",
     "output_type": "stream",
     "text": [
      "k = 2 min len is 19 average aver = 21.91591111111111\n",
      "k = 3 min len is 17 average aver = 20.4432\n",
      "k = 4 min len is 16 average aver = 21.21351111111111\n",
      "k = 5 min len is 16 average aver = 25.7504\n",
      "k = 6 min len is 15 average aver = 20.21351111111111\n",
      "k = 7 min len is 17 average aver = 36.129955555555554\n",
      "k = 8 min len is 28 average aver = 115.92177777777778\n",
      "k = 9 min len is 19 average aver = 63.2112\n",
      "k = 10 min len is 15 average aver = 37.35591111111111\n",
      "k = 11 min len is 14 average aver = 24.927644444444443\n",
      "k = 12 min len is 14 average aver = 19.21351111111111\n",
      "k = 13 min len is 15 average aver = 483.69146666666666\n"
     ]
    }
   ],
   "source": [
    "for k in range(2, 14):\n",
    "    fst6 = []\n",
    "    for i in range(5000, 50000):\n",
    "        fst6.append(len(Brauer(i, k)))\n",
    "    print(\"k =\", k, \"min len is\", min(fst6), \"average aver =\", sum(fst6)/len(fst6))"
   ]
  },
  {
   "cell_type": "markdown",
   "metadata": {},
   "source": [
    "output:\n",
    "\n",
    "    k = 2 min len is 19 average aver = 21.91591111111111\n",
    "    k = 3 min len is 17 average aver = 20.4432\n",
    "    k = 4 min len is 16 average aver = 21.21351111111111\n",
    "    k = 5 min len is 16 average aver = 25.7504\n",
    "    k = 6 min len is 15 average aver = 20.21351111111111\n",
    "    k = 7 min len is 17 average aver = 36.129955555555554\n",
    "    k = 8 min len is 28 average aver = 115.92177777777778\n",
    "    k = 9 min len is 19 average aver = 63.2112\n",
    "    k = 10 min len is 15 average aver = 37.35591111111111\n",
    "    k = 11 min len is 14 average aver = 24.927644444444443\n",
    "    k = 12 min len is 14 average aver = 19.21351111111111\n",
    "    k = 13 min len is 15 average aver = 483.69146666666666\n"
   ]
  },
  {
   "cell_type": "markdown",
   "metadata": {},
   "source": [
    "В результате исследований замечено, что длина цепочки сильно зависит от выбранного k. Более того, метод оптимального выбора k для достаточно больших n: $k = λλ(n) - 2λλλ(n)$  не оправдал себя. Его результаты при вменяемых n меньше едниницы, а при действительно больших n не больше 2. как правило, минимум, полученный переборм, больше.\n",
    "Среднее значение k, при коротом достигается минимум, колеблется от 5 (для больших чисел) до 15 (для относительно небольших.) Тем не менее, пренебрегая незначительными различиями в длинне внутри одного порядка, можно сказать, что оптимальное $k \\in [3, 8]$"
   ]
  },
  {
   "cell_type": "markdown",
   "metadata": {},
   "source": [
    "## Алгоритм Яо"
   ]
  },
  {
   "cell_type": "code",
   "execution_count": null,
   "metadata": {},
   "outputs": [],
   "source": [
    "def YAO(N, k):\n",
    "    syst = []\n",
    "    chain = []\n",
    "    tmpN = N\n",
    "    p = 2**k\n",
    "    z = []\n",
    "    syst.append([N, 0])\n",
    "    while tmpN >= p:\n",
    "        syst.append([tmpN//p, tmpN % p])\n",
    "        z.append(tmpN % p)\n",
    "        tmpN //= p\n",
    "    z.append(syst[len(syst) - 1][0])\n",
    "    power = z\n",
    "    z = list(set(z))\n",
    "    z.sort()\n",
    "    print(\"z =\", z)\n",
    "    d = []\n",
    "    d_z = []\n",
    "    for i in z:\n",
    "        d_i = 0;\n",
    "        for j in range(0, len(power)):\n",
    "            if i == power[j]:\n",
    "                d_i += (2**k)**j\n",
    "        d.append(d_i)\n",
    "        d_z.append(d_i*i)\n",
    "    print(\"d(z) = \", d)\n",
    "    print(\"z*d(z) = \", d_z)\n",
    "    equal = 0\n",
    "    for i in d_z:\n",
    "        equal += i\n",
    "    print(equal)\n",
    "    chain = []\n",
    "    first = int(log(N)/log(2))\n",
    "    chain.append(1)\n",
    "    for i in range(1, first + 1):\n",
    "        chain.append(chain[i - 1]*2)\n",
    "    print(chain)"
   ]
  },
  {
   "cell_type": "code",
   "execution_count": 13,
   "metadata": {},
   "outputs": [
    {
     "name": "stdout",
     "output_type": "stream",
     "text": [
      "12\n",
      "2\n"
     ]
    },
    {
     "ename": "NameError",
     "evalue": "name 'YAO' is not defined",
     "output_type": "error",
     "traceback": [
      "\u001b[0;31m---------------------------------------------------------------------------\u001b[0m",
      "\u001b[0;31mNameError\u001b[0m                                 Traceback (most recent call last)",
      "\u001b[0;32m<ipython-input-13-f27d398f38d7>\u001b[0m in \u001b[0;36m<module>\u001b[0;34m\u001b[0m\n\u001b[1;32m      1\u001b[0m \u001b[0mN\u001b[0m \u001b[0;34m=\u001b[0m \u001b[0mint\u001b[0m\u001b[0;34m(\u001b[0m\u001b[0minput\u001b[0m\u001b[0;34m(\u001b[0m\u001b[0;34m)\u001b[0m\u001b[0;34m)\u001b[0m\u001b[0;34m\u001b[0m\u001b[0;34m\u001b[0m\u001b[0m\n\u001b[1;32m      2\u001b[0m \u001b[0mk\u001b[0m \u001b[0;34m=\u001b[0m \u001b[0mint\u001b[0m\u001b[0;34m(\u001b[0m\u001b[0minput\u001b[0m\u001b[0;34m(\u001b[0m\u001b[0;34m)\u001b[0m\u001b[0;34m)\u001b[0m\u001b[0;34m\u001b[0m\u001b[0;34m\u001b[0m\u001b[0m\n\u001b[0;32m----> 3\u001b[0;31m \u001b[0mYAO\u001b[0m\u001b[0;34m(\u001b[0m\u001b[0mN\u001b[0m\u001b[0;34m,\u001b[0m \u001b[0mk\u001b[0m\u001b[0;34m)\u001b[0m\u001b[0;34m\u001b[0m\u001b[0;34m\u001b[0m\u001b[0m\n\u001b[0m",
      "\u001b[0;31mNameError\u001b[0m: name 'YAO' is not defined"
     ]
    }
   ],
   "source": [
    "N = int(input())\n",
    "k = int(input())\n",
    "YAO(N, k)"
   ]
  },
  {
   "cell_type": "markdown",
   "metadata": {},
   "source": [
    "output:\n",
    "\n",
    "    31415\n",
    "    3\n",
    "    z = [2, 5, 6, 7]\n",
    "    d(z) =  [64, 512, 8, 4097]\n",
    "    z*d(z) =  [128, 2560, 48, 28679]\n",
    "    31415\n",
    "    [1, 2, 4, 8, 16, 32, 64, 128, 256, 512, 1024, 2048, 4096, 8192, 16384]"
   ]
  },
  {
   "cell_type": "markdown",
   "metadata": {},
   "source": [
    "## 3) Алгоритм дробления вектора индексов для нахождения минимальной звёздной цепочки для заданного числа"
   ]
  },
  {
   "cell_type": "code",
   "execution_count": 2,
   "metadata": {},
   "outputs": [],
   "source": [
    "def hamming(n):\n",
    "    n = Integer(n)\n",
    "    return n.popcount()"
   ]
  },
  {
   "cell_type": "code",
   "execution_count": 3,
   "metadata": {},
   "outputs": [],
   "source": [
    "def generate_vec(m, ch_part):\n",
    "    vec1 = []\n",
    "    vec2 = []\n",
    "    for i in range(1, m + 1):\n",
    "        if i <= int(ch_part):# do not forgot to fix it\n",
    "            vec1.append(i)\n",
    "        else:\n",
    "            vec2.append(i)\n",
    "    return [vec1, vec2]"
   ]
  },
  {
   "cell_type": "code",
   "execution_count": 4,
   "metadata": {},
   "outputs": [],
   "source": [
    "def get_num(vec):\n",
    "    line = []\n",
    "    line.append(1)\n",
    "    for i in range(len(vec)):\n",
    "        line.append(line[i] + line[vec[i] - 1])\n",
    "    return line[len(line) - 1]"
   ]
  },
  {
   "cell_type": "code",
   "execution_count": 5,
   "metadata": {},
   "outputs": [],
   "source": [
    "# decremenation\n",
    "def dec(vec):\n",
    "    _len = len(vec)\n",
    "    for i in range(_len):\n",
    "        if vec[_len - i - 1] > 1:\n",
    "            vec[_len - i - 1] -= 1\n",
    "            for j in range(_len - i, _len):\n",
    "                vec[j] = j + 1\n",
    "            break"
   ]
  },
  {
   "cell_type": "code",
   "execution_count": 6,
   "metadata": {},
   "outputs": [],
   "source": [
    "def generate_part(_len, first):\n",
    "    part = [0]*_len\n",
    "    for i in range(_len):\n",
    "        part[i] = first + i\n",
    "    return part"
   ]
  },
  {
   "cell_type": "code",
   "execution_count": 7,
   "metadata": {},
   "outputs": [],
   "source": [
    "def get_chain(vec):\n",
    "    line = []\n",
    "    line.append(1)\n",
    "    for i in range(len(vec)):\n",
    "        line.append(line[i] + line[vec[i] - 1])\n",
    "    return line"
   ]
  },
  {
   "cell_type": "code",
   "execution_count": 8,
   "metadata": {},
   "outputs": [],
   "source": [
    "def empty(vec):\n",
    "    for i in vec:\n",
    "        if i > 1:\n",
    "            return False\n",
    "    return True"
   ]
  },
  {
   "cell_type": "code",
   "execution_count": 9,
   "metadata": {},
   "outputs": [],
   "source": [
    "def index(n):\n",
    "    l_min = math.ceil(math.log2(n)) #minimum length\n",
    "    l_max = int(math.log2(n) + hamming(n)) #maximum length\n",
    "    for m in range(l_min, l_max):\n",
    "        q = int(m/2)\n",
    "        vec = generate_vec(m, q)\n",
    "        #print(vec)\n",
    "        static_part = generate_part(q, 1)\n",
    "        \n",
    "        while true: #sorting out all static parts\n",
    "            dynamic_part = generate_part(m - q, q + 1)\n",
    "            bounds = [0]*2\n",
    "            a = get_num(static_part)\n",
    "            bounds[0] = a + m - q\n",
    "            bounds[1] = a * 2 ** (m - q)\n",
    "\n",
    "            \n",
    "            if n < bounds[0] or n > bounds[1]:\n",
    "                if empty(static_part) and len(static_part) > 1:\n",
    "                    break\n",
    "                dec(static_part)\n",
    "                continue\n",
    "                \n",
    "            while True: #sorting out all dynamic parts\n",
    "                if get_num(static_part + dynamic_part) == n:\n",
    "                    return static_part + dynamic_part\n",
    "                if empty(dynamic_part):\n",
    "                    break\n",
    "                dec(dynamic_part)\n",
    "                #print(static_part + dynamic_part)\n",
    "            if empty(static_part):\n",
    "                break\n",
    "            dec(static_part)   \n",
    "    print(\"Houston, we have a problem...\")"
   ]
  },
  {
   "cell_type": "code",
   "execution_count": 10,
   "metadata": {},
   "outputs": [],
   "source": [
    "import timeit\n",
    "def calculate(N):\n",
    "    start_time = timeit.default_timer()\n",
    "    res = index(N)\n",
    "    print(\"completed in\", timeit.default_timer() - start_time, \"seconds\")\n",
    "    return res"
   ]
  },
  {
   "cell_type": "code",
   "execution_count": 11,
   "metadata": {},
   "outputs": [
    {
     "name": "stdout",
     "output_type": "stream",
     "text": [
      "123\n",
      "completed in 0.09041466000053333 seconds\n",
      "Your vector is [1, 1, 3, 4, 5, 6, 7, 6, 3]\n",
      "Your chain is  [1, 2, 3, 6, 12, 24, 48, 96, 120, 123]\n"
     ]
    }
   ],
   "source": [
    "n = int(input()) #get a number to create our vector\n",
    "ind = calculate(n)\n",
    "print(\"Your vector is\", ind)\n",
    "print(\"Your chain is \", get_chain(ind))"
   ]
  },
  {
   "cell_type": "markdown",
   "metadata": {},
   "source": [
    "ex output:\n",
    "\n",
    "    513\n",
    "    completed in 0.00047584899948560633 seconds\n",
    "    Your vector is [1, 2, 3, 4, 5, 6, 7, 8, 9, 1]\n",
    "    Your chain is  [1, 2, 4, 8, 16, 32, 64, 128, 256, 512, 513]"
   ]
  },
  {
   "cell_type": "markdown",
   "metadata": {},
   "source": [
    "## 4) Проверим теорему (гипотезу) Шольца-Брауэра:"
   ]
  },
  {
   "cell_type": "code",
   "execution_count": 12,
   "metadata": {},
   "outputs": [
    {
     "name": "stdout",
     "output_type": "stream",
     "text": [
      "n = 1 , l(n) = 1 , l(2^n - 1) = 1\n",
      "l(2^n - 1) <= n - 1 + l(n):  True\n",
      "\n",
      "n = 2 , l(n) = 2 , l(2^n - 1) = 3\n",
      "l(2^n - 1) <= n - 1 + l(n):  True\n",
      "\n",
      "n = 3 , l(n) = 3 , l(2^n - 1) = 5\n",
      "l(2^n - 1) <= n - 1 + l(n):  True\n",
      "\n",
      "n = 4 , l(n) = 3 , l(2^n - 1) = 6\n",
      "l(2^n - 1) <= n - 1 + l(n):  True\n",
      "\n",
      "n = 5 , l(n) = 4 , l(2^n - 1) = 8\n",
      "l(2^n - 1) <= n - 1 + l(n):  True\n",
      "\n",
      "n = 6 , l(n) = 4 , l(2^n - 1) = 9\n",
      "l(2^n - 1) <= n - 1 + l(n):  True\n",
      "\n",
      "n = 7 , l(n) = 5 , l(2^n - 1) = 11\n",
      "l(2^n - 1) <= n - 1 + l(n):  True\n",
      "\n",
      "n = 8 , l(n) = 4 , l(2^n - 1) = 11\n",
      "l(2^n - 1) <= n - 1 + l(n):  True\n",
      "\n",
      "n = 9 , l(n) = 5 , l(2^n - 1) = 13\n",
      "l(2^n - 1) <= n - 1 + l(n):  True\n",
      "\n",
      "n = 10 , l(n) = 5 , l(2^n - 1) = 14\n",
      "l(2^n - 1) <= n - 1 + l(n):  True\n",
      "\n",
      "n = 11 , l(n) = 6 , l(2^n - 1) = 16\n",
      "l(2^n - 1) <= n - 1 + l(n):  True\n",
      "\n",
      "n = 12 , l(n) = 5 , l(2^n - 1) = 16\n",
      "l(2^n - 1) <= n - 1 + l(n):  True\n",
      "\n"
     ]
    }
   ],
   "source": [
    "for i in range(1, 13):\n",
    "    k = index(i)\n",
    "    _k = index(2**i - 1)\n",
    "    chain = get_chain(k)\n",
    "    _chain = get_chain(_k)\n",
    "    print(\"n =\", i, \", l(n) =\", len(chain), \", l(2^n - 1) =\", len(_chain))\n",
    "    print(\"l(2^n - 1) <= n - 1 + l(n): \", len(_chain) <= i - 1 + len(chain))\n",
    "    print()"
   ]
  },
  {
   "cell_type": "markdown",
   "metadata": {},
   "source": [
    "output:\n",
    "\n",
    "    n = 1 , l(n) = 1 , l(2^n - 1) = 1\n",
    "    l(2^n - 1) <= n - 1 + l(n):  True\n",
    "\n",
    "    n = 2 , l(n) = 2 , l(2^n - 1) = 3\n",
    "    l(2^n - 1) <= n - 1 + l(n):  True\n",
    "\n",
    "    n = 3 , l(n) = 3 , l(2^n - 1) = 5\n",
    "    l(2^n - 1) <= n - 1 + l(n):  True\n",
    "\n",
    "    n = 4 , l(n) = 3 , l(2^n - 1) = 6\n",
    "    l(2^n - 1) <= n - 1 + l(n):  True\n",
    "\n",
    "    n = 5 , l(n) = 4 , l(2^n - 1) = 8\n",
    "    l(2^n - 1) <= n - 1 + l(n):  True\n",
    "\n",
    "    n = 6 , l(n) = 4 , l(2^n - 1) = 9\n",
    "    l(2^n - 1) <= n - 1 + l(n):  True\n",
    "\n",
    "    n = 7 , l(n) = 5 , l(2^n - 1) = 11\n",
    "    l(2^n - 1) <= n - 1 + l(n):  True\n",
    "\n",
    "    n = 8 , l(n) = 4 , l(2^n - 1) = 11\n",
    "    l(2^n - 1) <= n - 1 + l(n):  True\n",
    "\n",
    "    n = 9 , l(n) = 5 , l(2^n - 1) = 13\n",
    "    l(2^n - 1) <= n - 1 + l(n):  True\n",
    "\n",
    "    n = 10 , l(n) = 5 , l(2^n - 1) = 14\n",
    "    l(2^n - 1) <= n - 1 + l(n):  True\n",
    "    \n",
    "    n = 11 , l(n) = 6 , l(2^n - 1) = 16\n",
    "    l(2^n - 1) <= n - 1 + l(n):  True\n",
    "\n",
    "    n = 12 , l(n) = 5 , l(2^n - 1) = 16\n",
    "    l(2^n - 1) <= n - 1 + l(n):  True\n"
   ]
  },
  {
   "cell_type": "markdown",
   "metadata": {},
   "source": [
    "$n$ | $l^*(n)$ | $l^*(2^n - 1)$ | $Теорема$\n",
    "--- | --- | --- | --- \n",
    "1 | 1 | 1 | Выполнена\n",
    "2 | 2 | 3 | Выполнена\n",
    "3 | 3 | 5 | Выполнена\n",
    "4 | 3 | 6 | Выполнена\n",
    "5 | 4 | 8 | Выполнена\n",
    "6 | 4 | 9 | Выполнена\n",
    "7 | 5 | 11 | Выполнена\n",
    "8 | 4 | 11 | Выполнена\n",
    "9 | 5 | 13 | Выполнена\n",
    "10 | 5 | 14 | Выполнена\n",
    "11 | 6 | 16 | Выполнена\n",
    "12 | 5 | 16 | Выполнена"
   ]
  },
  {
   "cell_type": "markdown",
   "metadata": {},
   "source": [
    "Некоторые выводы:\n",
    "* Время работы алгоритма действительно очень большое. Несмотря на оптимизацию, цепочки для больших чисел считаются непозволительно долго.\n",
    "\n",
    "\n",
    "\n",
    "\n",
    "* Зависимость скорости вычислений цепочки от длины числа действительно присутсвует, но в еще большей степени на скорость влияют другие факторы \n",
    "\n",
    "\n",
    "\n",
    "* Полученные цепочки не являются кратчайшими\n",
    "\n",
    "\n",
    "\n",
    "* Быстрее всего вычисляются цепочки для чисел, близких к степеням двойки \"сверху\":\n",
    "\n",
    "        257 за 0.00028с,\n",
    "        2049 за 0.00057с.\n",
    "\n",
    "\n",
    "\n",
    "* Дольше всего вычисляются цепочки для чисел, близких к степеням двойки \"снизу\":\n",
    "\n",
    "        255 за 0.333,\n",
    "        2047 за 2948.62.\n",
    "\n",
    "\n",
    "\n",
    "* Гипотеза Шольца-Брауэра для $n \\in (1, 12)$  верна. Считать дальше становится трудно, ввиду предыдущего пункта. Замечу, что гипотеза доказана для звездных цепочек (А. Брауэр, 1939)."
   ]
  },
  {
   "cell_type": "markdown",
   "metadata": {},
   "source": [
    "## Выводы\n",
    "Сформированы представления об аддитивных цепочках, выработаны умения составлять и применять алгоритмы для нахождения минимальных аддитивных цепочек для заданного числа, изучен навык использования систем компьютерной математики для реализации алгоритмов."
   ]
  }
 ],
 "metadata": {
  "kernelspec": {
   "display_name": "SageMath 9.0",
   "language": "sage",
   "name": "sagemath"
  },
  "language_info": {
   "codemirror_mode": {
    "name": "ipython",
    "version": 3
   },
   "file_extension": ".py",
   "mimetype": "text/x-python",
   "name": "python",
   "nbconvert_exporter": "python",
   "pygments_lexer": "ipython3",
   "version": "3.8.10"
  }
 },
 "nbformat": 4,
 "nbformat_minor": 4
}
