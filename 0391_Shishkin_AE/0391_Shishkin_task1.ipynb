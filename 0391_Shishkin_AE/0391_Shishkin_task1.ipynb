{
 "cells": [
  {
   "cell_type": "markdown",
   "metadata": {},
   "source": [
    "# Практическая работа №1: Название работы\n",
    "\n",
    "Выполнил студент гр. 0391 Шишкин Александр, вариант 67."
   ]
  },
  {
   "cell_type": "markdown",
   "metadata": {},
   "source": [
    "## Цель работы\n",
    "\n",
    "Формирование представления о аддитивных цепочках, выработать умение составлять и применять алгоритмы для нахождения минимальных\n",
    "аддитивных цепочек для заданного числа, привить навык использования\n",
    "систем компьютерной математики для реализации алгоритмов"
   ]
  },
  {
   "cell_type": "markdown",
   "metadata": {},
   "source": [
    "## Основные теоретические положения\n",
    "\n",
    "Аддитивная цепочка - последовательность натуральных чисел от 1 до n, где каждый элемент равен сумме каких-либо двух предыдущих элементов.\n",
    "\n",
    "__Свойства аддитивных цепочек:__\n",
    "\n",
    "-Полагается, что все аддитивные цепочки - возрастающие.\n",
    "\n",
    "-Если два числа из последовательности совпадают, то одно из них может быть опущено.\n",
    "\n",
    "__Виды шагов:__\n",
    "\n",
    "-Удвоение.\n",
    "\n",
    "-Звездный шаг. \n",
    "\n",
    "-Малый шаг.\n",
    "\n",
    "__Свойства шагов:__\n",
    "\n",
    "-Первый шаг - всегда удвоение.\n",
    "\n",
    "-Удвоение - звездный шаг, но никогда не малый шаг.\n",
    "\n",
    "-За удвоением всегда следует звездный шаг."
   ]
  },
  {
   "cell_type": "markdown",
   "metadata": {},
   "source": [
    "## Постановка задачи\n",
    "\n",
    "Реализовать точные и приближённые алгоритмы нахождения минимальных аддитивных цепочек с использованием системы компьютерной математики SageMath, провести анализ алгоритмов. Полученные результаты\n",
    "содержательно проинтерпретировать."
   ]
  },
  {
   "attachments": {},
   "cell_type": "markdown",
   "metadata": {},
   "source": [
    "## Выполнение работы\n"
   ]
  },
  {
   "cell_type": "markdown",
   "metadata": {},
   "source": [
    "## Номер 1.\n",
    "\n",
    "Возьмём числа 66 и 40 и применим бинарный метод.\n",
    "\n",
    "| Число | Двоичное представление без старшего разряда | Последовательность                       | Кол-во операций |\n",
    "|-------|---------------------------------------------|------------------------------------------|-----------------|\n",
    "| 66    | 000010                                      | x, x^2, x^4, x^8, x^16, x^32, x^33, x^66 | 7               |\n",
    "| 40    | 01000                                       | x, x^2, x^4, x^5, x^10, x^20, x^40       | 6               |\n",
    "\n",
    "\n",
    "Теперь применим метод множителей.\n",
    "\n",
    "| Число | Разложение на простые числа | Последовательность             | Кол-во операций |\n",
    "|-------|-----------------------------|--------------------------------|-----------------|\n",
    "| 66    | 2 * 3 * 11                  | x^66 = ((x^11)^3)^2            |                 |\n",
    "|       |                             | x^66 = ((x*(x^5)^2)^3)^2       |                 |\n",
    "|       |                             | x^66 = ((x*(x*(x^2)^2)^2)^3)^2 | 7               |\n",
    "| 40    | 2 * 2 * 2 * 5               | x^40 = (((x^5)^2)^2)^2         |                 |\n",
    "|       |                             | x^40 = (((x*(x^2)^2)^2)^2)^2   | 6               |\n",
    "\n",
    "Микровывод: разные методы в данном случае дали одинаковые результаты по кол-ву операций."
   ]
  },
  {
   "cell_type": "markdown",
   "metadata": {},
   "source": [
    "## Номер 2.\n",
    "\n",
    "Алгоритм Яо."
   ]
  },
  {
   "cell_type": "code",
   "execution_count": 22,
   "metadata": {},
   "outputs": [
    {
     "name": "stdout",
     "output_type": "stream",
     "text": [
      "Цепочка по алгоритму Брауера:\n",
      " [1, 2, 3, 6, 12, 15, 30, 60, 63, 126, 252, 504, 1008, 1010]\n"
     ]
    }
   ],
   "source": [
    "def Brauer(n, k):\n",
    "    answer=[] ## Список элементов аддитивной цепочки\n",
    "    lst = n.digits(2^k) ## Перевод числа в 2^k-ую системы счисления\n",
    "    answer = [i for i in range(1,2^k)] ## Добавление первых элементов цепочки от 1 до 2^k-1\n",
    "    answer.append(lst[-1]) ## Добавление в цепочку старшего разряда числа n в 2^k-ой.\n",
    "    \n",
    "    for i in range(len(lst)-2, -1, -1):\n",
    "        q=answer[-1] ## Запоминаем последний элемент текущей цепочки\n",
    "        for j in range(1,k+1):\n",
    "            answer.append((2^j)*q)\n",
    "        answer.append(answer[-1] + lst[i]) ## Добавляем к последнему элементу остаток\n",
    "    return sorted(set(answer)) ## Избавление от копий и сортировка множества\n",
    "\n",
    "print(\"Цепочка по алгоритму Брауера:\\n\", Brauer(1010, 2)) ## Вывод результата на экран"
   ]
  },
  {
   "cell_type": "markdown",
   "metadata": {},
   "source": [
    "*Пример использования, где a = 1010, а k = 2.*"
   ]
  },
  {
   "cell_type": "markdown",
   "metadata": {},
   "source": [
    "## Номер 3. \n",
    "\n",
    "Алгоритм дробления вектора индексов для нахождения минимальной звёздной цепочки для заданного числа."
   ]
  },
  {
   "cell_type": "code",
   "execution_count": 14,
   "metadata": {},
   "outputs": [
    {
     "name": "stdout",
     "output_type": "stream",
     "text": [
      "20\n",
      "Вектор:   [1, 2, 3, 4, 3]\n",
      "Цепочка: [1, 2, 4, 8, 16, 20]\n"
     ]
    }
   ],
   "source": [
    "def nu(n): ## Счет длины Хемминга\n",
    "    n = Integer(n)\n",
    "    return n.popcount()\n",
    "\n",
    "def create_part(m, ch_part): ## Создание вектора по умолчанию\n",
    "    vec1 = []\n",
    "    vec2 = []\n",
    "    for i in range(1, m + 1):\n",
    "        if i <= int(ch_part):\n",
    "            vec1.append(i)\n",
    "        else:\n",
    "            vec2.append(i)\n",
    "    return [vec1, vec2]\n",
    "\n",
    "def che(vec): ## Создание числа по вектору\n",
    "    line = []\n",
    "    line.append(1)\n",
    "    for i in range(len(vec)):\n",
    "        line.append(line[i] + line[vec[i] - 1])\n",
    "    return line[len(line) - 1]\n",
    "\n",
    "def dec(vec):## Показание ветора\n",
    "    _len = len(vec)\n",
    "    for i in range(_len):\n",
    "        if vec[_len - i - 1] > 1:\n",
    "            vec[_len - i - 1] -= 1\n",
    "            for j in range(_len - i, _len):\n",
    "                vec[j] = j + 1\n",
    "            break\n",
    "            \n",
    "def generate_part(_len, first):## Генерация вектора(частичная)\n",
    "    part = [0]*_len\n",
    "    for i in range(_len):\n",
    "        part[i] = first + i\n",
    "    return part\n",
    "\n",
    "def get_chain(vec):## Генерация цепочки по вектору\n",
    "    line = []\n",
    "    line.append(1)\n",
    "    for i in range(len(vec)):\n",
    "        line.append(line[i] + line[vec[i] - 1])\n",
    "    return line\n",
    "\n",
    "def dect(vec):## Проверка возможности декрементирования\n",
    "    for i in vec:\n",
    "        if i > 1:\n",
    "            return False\n",
    "    return True\n",
    "\n",
    "def vochcyc(n):\n",
    "    l_min = math.ceil(math.log2(n))\n",
    "    l_max = int(math.log2(n) + nu(n))\n",
    "    for m in range(l_min, l_max):## Перебор длин векторов\n",
    "        q = int(m/2)\n",
    "        vec = create_part(m, q)\n",
    "        fix = generate_part(q, 1)\n",
    "        \n",
    "        while True: ## Перебор всех возможных фикс частей\n",
    "            change = generate_part(m - q, q + 1)\n",
    "            bounds = [0]*2\n",
    "            a = che(fix)\n",
    "            bounds[0] = a + m - q\n",
    "            bounds[1] = a * 2 ** (m - q)\n",
    "\n",
    "            \n",
    "            if n < bounds[0] or n > bounds[1]:\n",
    "                if dect(fix) and len(fix) > 1:\n",
    "                    break\n",
    "                dec(fix)\n",
    "                continue\n",
    "                \n",
    "            while True: ## Перебор меняющихся частей\n",
    "                if che(fix + change) == n:\n",
    "                    return fix + change\n",
    "                if dect(change):\n",
    "                    break\n",
    "                dec(change)\n",
    "            if dect(fix):\n",
    "                break\n",
    "            dec(fix)   \n",
    "    print(\"неа\")\n",
    "    \n",
    "n = int(input())\n",
    "vova = vochcyc(n)\n",
    "print(\"Вектор:  \", vova)\n",
    "print(\"Цепочка:\", get_chain(vova))"
   ]
  },
  {
   "cell_type": "markdown",
   "metadata": {},
   "source": [
    "## Номер 4. \n",
    "Гипотеза Шольца-Брауэра.\n",
    "\n",
    "Проверим для первых 10 натуральных чисел."
   ]
  },
  {
   "cell_type": "code",
   "execution_count": 18,
   "metadata": {},
   "outputs": [
    {
     "name": "stdout",
     "output_type": "stream",
     "text": [
      "Теорема выполнена: True\n",
      "Теорема выполнена: True\n",
      "Теорема выполнена: True\n",
      "Теорема выполнена: True\n",
      "Теорема выполнена: True\n",
      "Теорема выполнена: True\n",
      "Теорема выполнена: True\n",
      "Теорема выполнена: True\n",
      "Теорема выполнена: True\n"
     ]
    }
   ],
   "source": [
    "for i in range(1, 10):\n",
    "    k = vochcyc(i)\n",
    "    _k = vochcyc(2**i - 1)\n",
    "    chain = get_chain(k)\n",
    "    _chain = get_chain(_k)\n",
    "    print(\"Теорема выполнена:\", len(_chain) <= i - 1 + len(chain))"
   ]
  },
  {
   "cell_type": "markdown",
   "metadata": {},
   "source": [
    "## Выводы\n",
    "\n",
    "Сформированы представления об аддитивных цепочках, выработаны умения составлять и применять алгоритмы для нахождения минимальных аддитивных цепочек для заданного числа. Получен навык использования системы компьютерной математики SageMath для реализации таких алгоритмов. На практике была проверена гипотеза Шольца-Брауэра, были проанализированы алгоритм Брауэра и алгоритм дробления векторов индексов."
   ]
  }
 ],
 "metadata": {
  "kernelspec": {
   "display_name": "SageMath 9.0",
   "language": "sage",
   "name": "sagemath"
  },
  "language_info": {
   "codemirror_mode": {
    "name": "ipython",
    "version": 3
   },
   "file_extension": ".py",
   "mimetype": "text/x-python",
   "name": "python",
   "nbconvert_exporter": "python",
   "pygments_lexer": "ipython3",
   "version": "3.8.10"
  }
 },
 "nbformat": 4,
 "nbformat_minor": 4
}
