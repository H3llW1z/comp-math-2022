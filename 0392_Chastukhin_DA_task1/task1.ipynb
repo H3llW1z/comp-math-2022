{
 "cells": [
  {
   "cell_type": "markdown",
   "metadata": {},
   "source": [
    "# Практическая работа №1: \n",
    "### Исследование алгоритмов формирования аддитивных цепочек\n",
    "\n",
    "Выполнил студент гр.0392 Частухин Даниил, вариант 87."
   ]
  },
  {
   "cell_type": "markdown",
   "metadata": {},
   "source": [
    "## Цель работы\n",
    "\n",
    "Формирование представления о аддитивных цепочках, выработать умение составлять и применять алгоритмы для нахождения минимальных\n",
    "аддитивных цепочек для заданного числа, привить навык использования\n",
    "систем компьютерной математики для реализации алгоритмов."
   ]
  },
  {
   "cell_type": "markdown",
   "metadata": {},
   "source": [
    "## Постановка задачи\n",
    "\n",
    "Реализовать точные и приближённые алгоритмы нахождения минимальных аддитивных цепочек с использованием системы компьютерной математики SageMath, провести анализ алгоритмов. Полученные результаты\n",
    "содержательно проинтерпретировать."
   ]
  },
  {
   "cell_type": "markdown",
   "metadata": {},
   "source": [
    "## Основные теоретические положения\n",
    "\n",
    "\n",
    "\n",
    "**Бинарный метод:** \n",
    "\n",
    "1) Записать число в бинарном виде\n",
    "\n",
    "2) Отбросить старший бит\n",
    "\n",
    "3) Созать вспомогательную строку, в которую подряд записывать: SX, если бит равен единице, S - нулю.\n",
    "\n",
    "4) Произвести вычисления: S - возведение в квадрат, а X - умножение на x\n",
    "\n",
    "\n",
    "**Метод множителей:**\n",
    "\n",
    "1) $n = pq$, где $p$ - наименьший простой множитель $n$. Таким образом, $x^n$ можно найти, вычислив $(x^p)^q$\n",
    "\n",
    "2) Если n - простое, то можно сначала вычислить $x^{n - 1}$ и умножить на $x$\n",
    " и умножить его на x\n",
    " \n",
    "3) При $n = 1$ получим $x^{n}$ без вычислений.\n",
    "\n",
    "\n",
    "\n",
    "\n",
    "\n",
    "Аддитивная цепочка для n - последовательность натуральных чисел\n",
    "$$ 1 = a_0, a_1, ..., a_r = n, $$\n",
    "где каждый элемент последователньости равен сумме каких-либо двух предыдущих.\n",
    "\n",
    "* $l(n)$ - наименьшая длина аддитивной цепочки\n",
    "\n",
    "* $\\lambda(n) =  \\lfloor\\log_2(n)\\rfloor $\n",
    "\n",
    "* $\\nu(n)$ - вес Хэмминга (число единиц в двоичной записи числа)\n",
    "\n",
    "Метод множителей: $ \\quad l(mn) \\le l(m) + l(n) $\n",
    "\n",
    "m-арный метод: $ \\quad l(n) \\le m - 2 + (k + 1)t \\quad [m = 2^k, n = \\sum_{j = 0}^t d_j m^{t-j}] $\n",
    "\n",
    "\n",
    "\n",
    "### Свойства цепочек:\n",
    "* Элементы строго возрастают\n",
    "* Одинаковые числа в цепочке опускаются\n",
    "* Пара $ (j, k), 0 \\le k \\le j < i $ называется шагом $i$\n",
    "* Если $\\exists$ более чем 1 пара $ (j, k) $, полагаем $ max \\hspace{0.2cm} j $\n",
    "\n",
    "\n",
    "### Виды шагов:\n",
    "* удвоение: $ j = k = i - 1 $\n",
    "* звёздный шаг: $ j = i - 1 $\n",
    "* малый шаг: $ \\lambda (a_i) = \\lambda (a_i - 1) $\n",
    "### Свойства видов шагов:\n",
    "* шаг 1 - всегда удвоение\n",
    "* удвоение - звёздный шаг, но никогда не малый\n",
    "* если $i$-ый шаг не малый, то $(i+1)$-ый шаг либо малый, либо звёздный, либо оба\n",
    "* за удвоением всегда следует звёздный шаг\n",
    "* если $(i+1)$-ый шаг не звёздный и не малый, то $i$-ый шаг должен быть малым\n",
    "\n",
    "### Теорема:\n",
    "\n",
    "Если аддитивная цепочка содержит $d$ и $f = r - d$ неудвоений, то $n \\le 2^{d-1} F_{f+3}$\n",
    "\n",
    "### Следствие:\n",
    "\n",
    "Если аддитивная цепочка содержит $f$ удвоений и $S$ малых шагов, то\n",
    "\n",
    "${S \\le f \\le} {S \\over {1 - \\log_2(\\varphi)}}$\n",
    "### Алгоритм Брауэра:\n",
    "\n",
    "Для $n \\in ℕ$ при заданном $k \\in ℕ$ можно построить цепочку Брауэра с помощью формулы:\n",
    "\n",
    "$$ B_k (n) =\n",
    "\\begin{cases}\n",
    "1, 2, 3, ..., 2^k - 1, \\quad n < 2^k \\\\\n",
    "B_k (q), 2q, 4q, ..., 2^k q, n, \\quad n \\ge 2^k\n",
    "\\end{cases} \\\\\n",
    "q = \\lfloor {n \\over 2^k} \\rfloor\n",
    "$$\n",
    "\n",
    "Данная цепочка имеет длину\n",
    "$$l_B (n) = j(k + 1) + 2^k - 2,$$\n",
    "при условии что $jk \\le \\lambda (n) \\le (j+1)k$\n",
    "\n",
    "Длина будет минимализирована для больших $n$, если положить $k = \\lambda \\lambda (n) - 2 \\lambda \\lambda \\lambda (n)$\n",
    "\n",
    "**Алгоритм:**\n",
    "\n",
    "* Задаётся $k$\n",
    "Вычисляются вспомогательные числа:\n",
    "$$\n",
    "d = 2^k, \\hspace{0.2cm} q_1 = [ {n \\over d} ], \\hspace{0.2cm} r_1 = n \\hspace{0.2cm} mod \\hspace{0.2cm} d \\longrightarrow n = q_1 d + r_1 \\quad (0 \\le r_1 < d) \\\\\n",
    "q_2 = [ {q_1 \\over d} ], \\hspace{0.2cm} r_2 = q_1 \\hspace{0.2cm} mod \\hspace{0.2cm} d \\longrightarrow q_1 = q_2 d + r_2 \\quad (0 \\le r_2 < d)\n",
    "$$\n",
    "* Данная процедура продолжается, пока не появится $q_s < d,$ следовательно $q_{s-1} = q_s d + r_s$\n",
    "* Таким образом, n имеет вид\n",
    "$$ n = 2^k q_1 + r_1 = 2^k (2^k q_2 + r_2) + r_1 = ...\\\\\n",
    "... = 2^k (2^k (... (2^k q_s + r_s ) ... ) + r_2 ) + r_1 . $$\n",
    "\n",
    "$$B_n (n): 1, 2, 3, ... 2^k - 1, \\\\\n",
    "2q_s, 4q_s, 8q_s, ... 2^k q_s, 2^k q_s + r_s, \\\\\n",
    "2q_{s-1}, 4q_{s-1}, 8q_{s-1}, ... 2^k q_{s-1}, 2^k q_{s-1} + r_{s-1}, \\\\\n",
    "... \\\\\n",
    "... 2^k q_1, 2^k q_1 + r_1 = n.$$\n",
    "\n",
    "### Алгоритм Яо:\n",
    "\n",
    "* Обладает такой же вычислительной мощностью, что и алгоритм Брауэра\n",
    "* $k \\ge 2$, $n$ раскладывается в $2^k$-ой системе счисления.\n",
    "* $$ d(z) = \\sum_{i: a_i = z} 2^{ik} $$\n",
    "\n",
    "**Алгоритм**:\n",
    "\n",
    "* Базовая последовательность: $1, 2, 4, ..., 2^{\\lambda(n)}$\n",
    "* Вычисляются значения $d(z)$ для всех $z \\in \\{ 1, 2, ..., 2^k - 1\\}, \\quad d(z) \\ne 0$\n",
    "* Вычисляются значения $zd(z)$ для всех $z$\n",
    "* n представляетсяв виде\n",
    "$$ n = \\sum_{z = 1}^{2^k - 1} zd(z) $$\n",
    "\n",
    "\n",
    "## Алгоритм дробления вектора индексов\n",
    "**Алгоритм**:\n",
    "\n",
    "1) Исходный вектор ${1, 2, ... m}$ по которому строится исходная цепочка цепочка ${a_1 = 1, a_2, ..., a_{m+1}}$\n",
    "\n",
    "2) Если $a_{m+1}=n$ - алгоритм завершается. Иначе вектор делится на изменяемую и неизменяемую части.\n",
    "\n",
    "3) Находятся границы $a_{max} = a_{q} \\cdot 2^{n - q}$  и  $a_{min} = a_{q+1} + m - q$, где $q$ - длина неизменяемой части. Если $n\\in [ a_{min}, a_{max}]$, перебираются все возможные изменяемые части.\n",
    "\n",
    "4) Если цепочка при данной неизменяемой части не была найдена, то изменяемая часть принимает первоначальное значение, а неизменяемая декрементируется.\n",
    "\n",
    "5) Если были перебраны все варианты обоих частей вектора, то вектор длина вектора увеличивается на единицу и принимает значение ${1, 2, ... m + 1}$\n",
    "\n",
    "6) Алгоритм продолжается, пока не будет найдена цепочка.\n",
    "\n",
    "7) Замечание: имеет смысл принять граничными значениями длины вектора $l \\in [\\lfloor\\log_2(n)\\rfloor, \\lfloor\\log_2(n)\\rfloor + \\nu(n)]$"
   ]
  },
  {
   "cell_type": "markdown",
   "metadata": {},
   "source": [
    "### №1 Бинарный метод и метод множителей"
   ]
  },
  {
   "cell_type": "markdown",
   "metadata": {},
   "source": [
    "1) $ n = 666 $\n",
    "* Бинарный метод: \n",
    "$n = 666 = 1|010011010_2 = SSXSSSXSXSSXS$\n",
    "<br>\n",
    "Где $ S = x^{2}, X = x*x $\n",
    "<br>\n",
    "$Последовательность: x, x^{2}, x^{4}, x^{5}, x^{10}, x^{20}, x^{40}, x^{41}, x^{82}, x^{83}, x^{166}, x^{332}, x^{333}, x^{666}$\n",
    "<br>\n",
    "Число операций = 13\n",
    "<br>\n",
    "<br>\n",
    "* Метод множителей: \n",
    "$n = 666 = 2 * 3^{2} * 37 = (((x^{37})^{3})^{3})^{2} = (((((x^{2})^{2})^{3})^{3} * x)^{3})^{3})^{2}$\n",
    "<br>\n",
    "$ x, x^{2}, x^{3} $ 2 операции\n",
    "<br>\n",
    "$ x, x^{2} $ = 1 операция\n",
    "<br>\n",
    "$ x * x $ = 1 операция\n",
    "<br>\n",
    "Итого число операций $ 2*4 + 3*1 + 1 = 12 $\n",
    "<br>\n",
    "<br>\n",
    "У метода множителей меньше операций\n",
    "\n",
    "\n",
    "2) $ n = 99 $\n",
    "* Бинарный метод: \n",
    "$n = 99 = 1|100011_2 = SXSSSSXSX$\n",
    "<br>\n",
    "$Последовательность: x, x^{2}, x^{3}, x^{6}, x^{12}, x^{24}, x^{48}, x^{49}, x^{98}, x^{99}$\n",
    "<br>\n",
    "Число операций = 9\n",
    "<br>\n",
    "<br>\n",
    "* Метод множителей: \n",
    "$n = 99 = 3^{2} * 11 = (((x^{2})^{5})*x)^{3})^{3}$\n",
    "$ x, x^{2}, x^{4}, x^{5} $ 3 операции\n",
    "<br>\n",
    "$ x, x^{2}, x^{3} $ 2 операции\n",
    "<br>\n",
    "$ x, x^{2} $ = 1 операция\n",
    "<br>\n",
    "$ x * x $ = 1 операция\n",
    "<br>\n",
    "Итого число операций $ 1 + 1 + 3 + 2*2 = 9 $\n",
    "<br>\n",
    "<br>\n",
    "Число операций одинаково\n",
    "\n",
    "\n",
    "3) $ n = 153 $\n",
    "* Бинарный метод: \n",
    "$n = 153 = 1|0011001_2 = SSSXSXSSSX$\n",
    "<br>\n",
    "$Последовательность: x, x^{2}, x^{4}, x^{8}, x^{9}, x^{18}, x^{19}, x^{38}, x^{76}, x^{152}, x^{153}$\n",
    "<br>\n",
    "Число операций = 10\n",
    "<br>\n",
    "<br>\n",
    "* Метод множителей: \n",
    "$n = 99 = 3^{2} * 17 = (((x^{4})^{4})*x)^{3})^{3}$\n",
    "$ x, x^{2}, x^{4} $ 2 операции\n",
    "<br>\n",
    "$ x, x^{2}, x^{3} $ 2 операции\n",
    "<br>\n",
    "$ x * x $ = 1 операция\n",
    "<br>\n",
    "Итого число операций $ 1 + 2*2 + 2*2 = 9 $\n",
    "<br>\n",
    "<br>\n",
    "Число операций одинаково"
   ]
  },
  {
   "cell_type": "markdown",
   "metadata": {},
   "source": [
    "Итог: метод множителей немного оптимальнее, однако бинарный метод довольно просто реализуется, из-за чего тоже может быть применим"
   ]
  },
  {
   "cell_type": "markdown",
   "metadata": {},
   "source": [
    "### №2 Алгоритм Брауэра"
   ]
  },
  {
   "cell_type": "markdown",
   "metadata": {},
   "source": [
    "Реализуем сам алгоритм"
   ]
  },
  {
   "cell_type": "code",
   "execution_count": 23,
   "metadata": {},
   "outputs": [],
   "source": [
    "def Brauer(n, k):\n",
    "    chain = [] # список аддитивной цепочки\n",
    "    div = [] # список частных и остатков\n",
    "    p = n\n",
    "    d = 2**k\n",
    "    \n",
    "    # Раскладываем число по модулю 2^k\n",
    "    div.append([n, 0])\n",
    "    while(p//d >= 1):\n",
    "        div.append([p//d, p%d])\n",
    "        p //= d\n",
    "    div = div[::-1]\n",
    "    \n",
    "    # Записываем первые элементы цпочки от 1 до qs\n",
    "    for i in range(1, div[0][0]+1):\n",
    "        chain.append(i)\n",
    "    \n",
    "    # Делаем цикл, пока послений элемент цепочки не будет равен n\n",
    "    it = 1\n",
    "    while (chain[-1] != n):\n",
    "        # Удваиваем последний элемент цепочки, если результат не будет превосходить qn\n",
    "        if (chain[-1]+chain[-1] <= div[it][0]):\n",
    "            chain.append(chain[-1]+chain[-1])\n",
    "        # Либо прибавляем к последнему элементу остаток по модулю rn\n",
    "        else:\n",
    "            chain.append(chain[-1]+div[it-1][1])\n",
    "            it += 1\n",
    "        \n",
    "    return chain"
   ]
  },
  {
   "cell_type": "markdown",
   "metadata": {},
   "source": [
    "Протестируем на примере (взят из практики)\n",
    "    $$n = 31415$$\n",
    "    $$k = 3$$"
   ]
  },
  {
   "cell_type": "code",
   "execution_count": 24,
   "metadata": {},
   "outputs": [
    {
     "name": "stdout",
     "output_type": "stream",
     "text": [
      "[1, 2, 3, 4, 5, 6, 7, 14, 28, 56, 61, 122, 244, 488, 490, 980, 1960, 3920, 3926, 7852, 15704, 31408, 31415]\n",
      "Size of chain:  22\n"
     ]
    }
   ],
   "source": [
    "chain = Brauer(31415, 3)\n",
    "print(chain)\n",
    "print(\"Size of chain: \", len(chain)-1) # len(ch)-1, так как первый элемент \"1\" не учитывается"
   ]
  },
  {
   "cell_type": "markdown",
   "metadata": {},
   "source": [
    "    [1, 2, 3, 4, 5, 6, 7, 14, 28, 56, 61, 122, 244, 488, 490, 980, 1960, 3920, 3926, 7852, 15704, 31408, 31415]\n",
    "    Size of chain:  22"
   ]
  },
  {
   "cell_type": "markdown",
   "metadata": {},
   "source": [
    "Будем варьировать число k и посмотрим на графике, как будут меняться длины цепочек\n",
    "<br>\n",
    "n оставим прежним"
   ]
  },
  {
   "cell_type": "code",
   "execution_count": 25,
   "metadata": {},
   "outputs": [
    {
     "data": {
      "image/png": "[encoded data removed]",
      "text/plain": [
       "Graphics object consisting of 1 graphics primitive"
      ]
     },
     "metadata": {},
     "output_type": "display_data"
    },
    {
     "name": "stdout",
     "output_type": "stream",
     "text": [
      "Min chain size:  15\n",
      "k:  14\n"
     ]
    }
   ],
   "source": [
    "lens = []\n",
    "n = 31415\n",
    "\n",
    "for k in range(1, 15):\n",
    "    lens.append(len(Brauer(n, k)) - 1)\n",
    "    \n",
    "g = point((i+1 , lens[i]) for i in range (0, 14))\n",
    "g.show()\n",
    "print(\"Min chain size: \", min(lens))\n",
    "print(\"k: \", lens.index(min(lens)) + 1)"
   ]
  },
  {
   "cell_type": "markdown",
   "metadata": {},
   "source": [
    "    Min chain size:  15\n",
    "    k:  14"
   ]
  },
  {
   "cell_type": "markdown",
   "metadata": {},
   "source": [
    "Посмотрим для n = 3141592 "
   ]
  },
  {
   "cell_type": "code",
   "execution_count": 26,
   "metadata": {},
   "outputs": [
    {
     "data": {
      "image/png": "[encoded data removed]",
      "text/plain": [
       "Graphics object consisting of 1 graphics primitive"
      ]
     },
     "metadata": {},
     "output_type": "display_data"
    },
    {
     "name": "stdout",
     "output_type": "stream",
     "text": [
      "Min chain size:  23\n",
      "k:  10\n"
     ]
    }
   ],
   "source": [
    "lens = []\n",
    "n = 3141592\n",
    "\n",
    "for k in range(1, 20):\n",
    "    lens.append(len(Brauer(n, k)) - 1)\n",
    "    \n",
    "g = point((i+1 , lens[i]) for i in range (0, 19))\n",
    "g.show()\n",
    "print(\"Min chain size: \", min(lens))\n",
    "print(\"k: \", lens.index(min(lens)) + 1)"
   ]
  },
  {
   "cell_type": "markdown",
   "metadata": {},
   "source": [
    "   \n",
    "    Min chain size:  23\n",
    "    k:  10"
   ]
  },
  {
   "cell_type": "markdown",
   "metadata": {},
   "source": [
    "В теории говорится, что длина будет минимизирована для больших n, если положить, что \n",
    "<br>\n",
    "$$ k = λ(λ(n)) - 2λ(λ(λ(n))) $$\n",
    "<br>\n",
    "Высчитаем k из формулы и сравним с k из минимальной цепочки метода Брауэра\n",
    "<br>\n",
    "<br>\n",
    "*Для примера и далее возьмём последовательность цифр числа π*"
   ]
  },
  {
   "cell_type": "code",
   "execution_count": 40,
   "metadata": {},
   "outputs": [
    {
     "name": "stdout",
     "output_type": "stream",
     "text": [
      "Min chain size:  264   With k:  28\n",
      "k from formula:  1.993196888882876\n"
     ]
    }
   ],
   "source": [
    "n = 31415926535897932384626433832795028841971693993751058209749445923078164062862\n",
    "real_k = math.log2(math.log2(n))-2*math.log2(math.log2(math.log2(n)))\n",
    "\n",
    "lens = []\n",
    "for k in range(1, 30):\n",
    "    lens.append(len(Brauer(n, k))-1)\n",
    "Brauer_k = lens.index(min(lens))+1\n",
    "\n",
    "print(\"Min chain size: \", min(lens), \"  With k: \", Brauer_k)\n",
    "print(\"k from formula: \", real_k)"
   ]
  },
  {
   "cell_type": "markdown",
   "metadata": {},
   "source": [
    "    Min chain size:  264   With k:  28\n",
    "    k from formula:  1.993196888882876"
   ]
  },
  {
   "cell_type": "markdown",
   "metadata": {},
   "source": [
    "Теоретический k сильно расходится с практикой при мильно больших n \n",
    "<br>\n",
    "Теперь переберём все k от 1 до 15, а для каждого k переберём n от 5 до 150 тысяч, и посмотрим, как варьируется k с минимальной цепочкой"
   ]
  },
  {
   "cell_type": "code",
   "execution_count": 38,
   "metadata": {},
   "outputs": [
    {
     "name": "stdout",
     "output_type": "stream",
     "text": [
      "k: 1  Min size: 23   Average size: 30\n",
      "k: 2  Min size: 17   Average size: 22\n",
      "k: 3  Min size: 15   Average size: 20\n",
      "k: 4  Min size: 14   Average size: 20\n",
      "k: 5  Min size: 14   Average size: 21\n",
      "k: 6  Min size: 13   Average size: 31\n",
      "k: 7  Min size: 15   Average size: 25\n",
      "k: 8  Min size: 17   Average size: 71\n",
      "k: 9  Min size: 18   Average size: 159\n",
      "k: 10  Min size: 14   Average size: 85\n",
      "k: 11  Min size: 13   Average size: 48\n",
      "k: 12  Min size: 13   Average size: 30\n",
      "k: 13  Min size: 13   Average size: 166\n",
      "k: 14  Min size: 14   Average size: 856\n",
      "k: 15  Min size: 15   Average size: 3630\n"
     ]
    }
   ],
   "source": [
    "for k in range(1, 16):\n",
    "    lens = []\n",
    "    for n in range(5000, 150000):\n",
    "        lens.append(len(Brauer(n, k))-1)\n",
    "    print(\"k: \" + str(k) + \"  Min size: \" + str(min(lens)) + \"   Average size:\", sum(lens)//len(lens))"
   ]
  },
  {
   "cell_type": "markdown",
   "metadata": {},
   "source": [
    "    k: 1  Min size: 23   Average size: 30\n",
    "    k: 2  Min size: 17   Average size: 22\n",
    "    k: 3  Min size: 15   Average size: 20\n",
    "    k: 4  Min size: 14   Average size: 20\n",
    "    k: 5  Min size: 14   Average size: 21\n",
    "    k: 6  Min size: 13   Average size: 31\n",
    "    k: 7  Min size: 15   Average size: 25\n",
    "    k: 8  Min size: 17   Average size: 71\n",
    "    k: 9  Min size: 18   Average size: 159\n",
    "    k: 10  Min size: 14   Average size: 85\n",
    "    k: 11  Min size: 13   Average size: 48\n",
    "    k: 12  Min size: 13   Average size: 30\n",
    "    k: 13  Min size: 13   Average size: 166\n",
    "    k: 14  Min size: 14   Average size: 856\n",
    "    k: 15  Min size: 15   Average size: 3630"
   ]
  },
  {
   "cell_type": "markdown",
   "metadata": {},
   "source": [
    "Итог: для очень больших n формула k из теории неоптимально. Для n не очень больших k варьируется от 3 до 7, для значений от 8 до 15 минимальные цепочки нормальные, средний размер всех этих цепочек становится заметно больше чем у k из диапазона от 3 до 7"
   ]
  },
  {
   "cell_type": "markdown",
   "metadata": {},
   "source": [
    "### №3 Алгоритм дробления вектора индексов"
   ]
  },
  {
   "cell_type": "code",
   "execution_count": 54,
   "metadata": {},
   "outputs": [],
   "source": [
    "# Генерация фиксированной части\n",
    "def generate_fix(q):\n",
    "    fix = []\n",
    "    for i in range(1, q+1):\n",
    "        fix.append(i)\n",
    "    return fix"
   ]
  },
  {
   "cell_type": "code",
   "execution_count": 55,
   "metadata": {},
   "outputs": [],
   "source": [
    "# Генерация меняющейся части\n",
    "def generate_dyn(q, m):\n",
    "    din = []\n",
    "    for i in range(q+1, m+1):\n",
    "        dyn.append(i)\n",
    "    return dyn"
   ]
  },
  {
   "cell_type": "code",
   "execution_count": 83,
   "metadata": {},
   "outputs": [],
   "source": [
    "# Получение звёздной цепочки из вектора индексов\n",
    "def generate_ch(vec):\n",
    "    chain = [1]\n",
    "    for i in vec:\n",
    "        chain.append(chain[-1]+chain[i-1])\n",
    "    return chain"
   ]
  },
  {
   "cell_type": "code",
   "execution_count": 84,
   "metadata": {},
   "outputs": [],
   "source": [
    "# Декрементация части вектора индексов\n",
    "def dec(vec):\n",
    "    vec[-1] -= 1\n",
    "    it = -1\n",
    "    while(vec[it] == 0):\n",
    "        vec[it] = len(vec) + it + 1\n",
    "        it -= 1\n",
    "        vec[it] -= 1\n",
    "    return vec"
   ]
  },
  {
   "cell_type": "code",
   "execution_count": 99,
   "metadata": {},
   "outputs": [],
   "source": [
    "# Проверка на конец части вектора (если вектор {1, .., 1})\n",
    "def check_end(vec):\n",
    "    for i in vec:\n",
    "        if (i != 1):\n",
    "            return 0\n",
    "    return 1"
   ]
  },
  {
   "cell_type": "code",
   "execution_count": 137,
   "metadata": {},
   "outputs": [],
   "source": [
    "# Функция дробления вектора индексов9\n",
    "def Milling(n):\n",
    "    ln = math.floor(math.log2(n)) # [log2(n)]\n",
    "    v = Integer(n).popcount() # функция Хэмминга\n",
    "    for m in range(ln, ln + v + 1):\n",
    "        q = m//2 # Делим вектор на две части\n",
    "        fix = generate_fix(q) # Генерируем фиксированную часть\n",
    "        dyn = generate_din(q, m) # Генерируем меняющуюся часть\n",
    "        \n",
    "        while (1):\n",
    "            chain = generate_ch(fix+dyn) # Получаем звёздную цепочку\n",
    "            a_min = chain[q]+m-q\n",
    "            a_max = chain[q]*2**(m-q)\n",
    "            \n",
    "            dyn = generate_din(q, m) # Генерируем меняющуюся часть по новой\n",
    "            if (chain[m] == n):\n",
    "                return fix+dyn\n",
    "            elif (n > a_max or n < a_min):\n",
    "                if (check_end(fix)):\n",
    "                    break\n",
    "                dec(fix) # Декрементируем фиксированную часть\n",
    "                continue\n",
    "            while (1):\n",
    "                chain = generate_ch(fix+dyn)\n",
    "                if (chain[m] == n):\n",
    "                    return fix+dyn\n",
    "                    \n",
    "                if (check_end(dyn)):\n",
    "                    break\n",
    "                dec(dyn) # Декрементируем меняющуюся часть\n",
    "                \n",
    "            if (check_end(fix)):\n",
    "                break\n",
    "            dec(fix)"
   ]
  },
  {
   "cell_type": "code",
   "execution_count": 138,
   "metadata": {},
   "outputs": [],
   "source": [
    "import time"
   ]
  },
  {
   "cell_type": "code",
   "execution_count": 139,
   "metadata": {},
   "outputs": [
    {
     "name": "stdout",
     "output_type": "stream",
     "text": [
      "Completed in 0.016112804412841797 seconds\n",
      "Vector: [1, 2, 2, 1, 5, 6, 7, 5]\n",
      "Chain: [1, 2, 4, 6, 7, 14, 28, 56, 63]\n"
     ]
    }
   ],
   "source": [
    "start = time.time()\n",
    "vec = Milling(63)\n",
    "end = time.time()\n",
    "chain = generate_ch(vec)\n",
    "\n",
    "print(\"Completed in\", end-start, \"seconds\")\n",
    "print(\"Vector:\", vec)\n",
    "print(\"Chain:\", chain)"
   ]
  },
  {
   "cell_type": "markdown",
   "metadata": {},
   "source": [
    "    Completed in 0.016112804412841797 seconds\n",
    "    Vector: [1, 2, 2, 1, 5, 6, 7, 5]\n",
    "    Chain: [1, 2, 4, 6, 7, 14, 28, 56, 63]"
   ]
  },
  {
   "cell_type": "markdown",
   "metadata": {},
   "source": [
    "Алгоритм работает\n",
    "<br>\n",
    "Протестируем его для 5 значений n > 1000"
   ]
  },
  {
   "cell_type": "code",
   "execution_count": 126,
   "metadata": {},
   "outputs": [
    {
     "name": "stdout",
     "output_type": "stream",
     "text": [
      "Completed in 214.4531328678131 seconds\n",
      "Vector: [1, 2, 3, 4, 5, 5, 2, 8, 9, 10, 11, 12, 11, 2]\n",
      "Chain: [1, 2, 4, 8, 16, 32, 48, 50, 100, 200, 400, 800, 1600, 2000, 2002]\n"
     ]
    }
   ],
   "source": [
    "start = time.time()\n",
    "vec = Milling(2002)\n",
    "end = time.time()\n",
    "chain = generate_ch(vec)\n",
    "\n",
    "print(\"Completed in\", end-start, \"seconds\")\n",
    "print(\"Vector:\", vec)\n",
    "print(\"Chain:\", chain)"
   ]
  },
  {
   "cell_type": "markdown",
   "metadata": {},
   "source": [
    "    Completed in 214.4531328678131 seconds\n",
    "    Vector: [1, 2, 3, 4, 5, 5, 2, 8, 9, 10, 11, 12, 11, 2]\n",
    "    Chain: [1, 2, 4, 8, 16, 32, 48, 50, 100, 200, 400, 800, 1600, 2000, 2002]"
   ]
  },
  {
   "cell_type": "code",
   "execution_count": 127,
   "metadata": {},
   "outputs": [
    {
     "name": "stdout",
     "output_type": "stream",
     "text": [
      "Completed in 245.26468658447266 seconds\n",
      "Vector: [1, 2, 3, 4, 5, 5, 4, 8, 9, 10, 11, 12, 8, 4]\n",
      "Chain: [1, 2, 4, 8, 16, 32, 48, 56, 112, 224, 448, 896, 1792, 1848, 1856]\n"
     ]
    }
   ],
   "source": [
    "start = time.time()\n",
    "vec = Milling(1856) # Поражение в Крымской войне\n",
    "end = time.time()\n",
    "chain = generate_ch(vec)\n",
    "\n",
    "print(\"Completed in\", end-start, \"seconds\")\n",
    "print(\"Vector:\", vec)\n",
    "print(\"Chain:\", chain)"
   ]
  },
  {
   "cell_type": "markdown",
   "metadata": {},
   "source": [
    "    Completed in 245.26468658447266 seconds\n",
    "    Vector: [1, 2, 3, 4, 5, 5, 4, 8, 9, 10, 11, 12, 8, 4]\n",
    "    Chain: [1, 2, 4, 8, 16, 32, 48, 56, 112, 224, 448, 896, 1792, 1848, 1856]"
   ]
  },
  {
   "cell_type": "code",
   "execution_count": 128,
   "metadata": {},
   "outputs": [
    {
     "name": "stdout",
     "output_type": "stream",
     "text": [
      "Completed in 18.088226795196533 seconds\n",
      "Vector: [1, 2, 3, 4, 5, 3, 7, 8, 9, 10, 11, 8, 5]\n",
      "Chain: [1, 2, 4, 8, 16, 32, 36, 72, 144, 288, 576, 1152, 1224, 1240]\n"
     ]
    }
   ],
   "source": [
    "start = time.time()\n",
    "vec = Milling(1240) # Невская битва\n",
    "end = time.time()\n",
    "chain = generate_ch(vec)\n",
    "\n",
    "print(\"Completed in\", end-start, \"seconds\")\n",
    "print(\"Vector:\", vec)\n",
    "print(\"Chain:\", chain)"
   ]
  },
  {
   "cell_type": "markdown",
   "metadata": {},
   "source": [
    "    Completed in 18.088226795196533 seconds\n",
    "    Vector: [1, 2, 3, 4, 5, 3, 7, 8, 9, 10, 11, 8, 5]\n",
    "    Chain: [1, 2, 4, 8, 16, 32, 36, 72, 144, 288, 576, 1152, 1224, 1240]"
   ]
  },
  {
   "cell_type": "code",
   "execution_count": 129,
   "metadata": {},
   "outputs": [
    {
     "name": "stdout",
     "output_type": "stream",
     "text": [
      "Completed in 300.09082436561584 seconds\n",
      "Vector: [1, 2, 3, 4, 4, 1, 6, 8, 9, 10, 11, 12, 10, 7]\n",
      "Chain: [1, 2, 4, 8, 16, 24, 25, 49, 98, 196, 392, 784, 1568, 1764, 1789]\n"
     ]
    }
   ],
   "source": [
    "start = time.time()\n",
    "vec = Milling(1789) # Начало Великой Французской революци\n",
    "end = time.time()\n",
    "chain = generate_ch(vec)\n",
    "\n",
    "print(\"Completed in\", end-start, \"seconds\")\n",
    "print(\"Vector:\", vec)\n",
    "print(\"Chain:\", chain)"
   ]
  },
  {
   "cell_type": "markdown",
   "metadata": {},
   "source": [
    "    Completed in 300.09082436561584 seconds\n",
    "    Vector: [1, 2, 3, 4, 4, 1, 6, 8, 9, 10, 11, 12, 10, 7]\n",
    "    Chain: [1, 2, 4, 8, 16, 24, 25, 49, 98, 196, 392, 784, 1568, 1764, 1789]"
   ]
  },
  {
   "cell_type": "code",
   "execution_count": 130,
   "metadata": {},
   "outputs": [
    {
     "name": "stdout",
     "output_type": "stream",
     "text": [
      "Completed in 10.304410219192505 seconds\n",
      "Vector: [1, 2, 3, 4, 5, 4, 7, 8, 9, 10, 11, 9, 7]\n",
      "Chain: [1, 2, 4, 8, 16, 32, 40, 80, 160, 320, 640, 1280, 1440, 1480]\n"
     ]
    }
   ],
   "source": [
    "start = time.time()\n",
    "vec = Milling(1480) # Стояние на реке Угре\n",
    "end = time.time()\n",
    "chain = generate_ch(vec)\n",
    "\n",
    "print(\"Completed in\", end-start, \"seconds\")\n",
    "print(\"Vector:\", vec)\n",
    "print(\"Chain:\", chain)"
   ]
  },
  {
   "cell_type": "markdown",
   "metadata": {},
   "source": [
    "    Completed in 10.304410219192505 seconds\n",
    "    Vector: [1, 2, 3, 4, 5, 4, 7, 8, 9, 10, 11, 9, 7]\n",
    "    Chain: [1, 2, 4, 8, 16, 32, 40, 80, 160, 320, 640, 1280, 1440, 1480]"
   ]
  },
  {
   "cell_type": "markdown",
   "metadata": {},
   "source": [
    "Итог: время работы алгоритма достаточно большое. Дольше всего выполняется для чисел, которое немного меньше степени двойки, а быстрее всего выполняется для чисел немного больших степени двойки"
   ]
  },
  {
   "cell_type": "markdown",
   "metadata": {},
   "source": [
    "### №4 Гипотеза Шольца-Бауэра"
   ]
  },
  {
   "cell_type": "markdown",
   "metadata": {},
   "source": [
    "Сама гипотеа:  $ l(2^{n}-1) \\leqslant l(n) + n - 1 $ "
   ]
  },
  {
   "cell_type": "code",
   "execution_count": null,
   "metadata": {},
   "outputs": [],
   "source": [
    "for n in range(1, 13):\n",
    "    right_vec = Milling(n)\n",
    "    left_vec = Milling(2**n - 1)\n",
    "    ln = len(generate_ch(right_vec))\n",
    "    l2n = len(generate_ch(left_vec))\n",
    "    print(\"n:\", n, \", l(n):\", ln, \", l(2^n - 1): \", l2n)\n",
    "    print(\"l(2^n - 1) <= n - 1 + l(n): \", l2n <= ln + n -1)\n",
    "    print()"
   ]
  },
  {
   "cell_type": "markdown",
   "metadata": {},
   "source": [
    "    n: 1 , l(n): 1 , l(2^n - 1):  1\n",
    "    l(2^n - 1) <= n - 1 + l(n):  True\n",
    "\n",
    "    n: 2 , l(n): 2 , l(2^n - 1):  3\n",
    "    l(2^n - 1) <= n - 1 + l(n):  True\n",
    "\n",
    "    n: 3 , l(n): 3 , l(2^n - 1):  5\n",
    "    l(2^n - 1) <= n - 1 + l(n):  True\n",
    "\n",
    "    n: 4 , l(n): 3 , l(2^n - 1):  6\n",
    "    l(2^n - 1) <= n - 1 + l(n):  True\n",
    "\n",
    "    n: 5 , l(n): 4 , l(2^n - 1):  8\n",
    "    l(2^n - 1) <= n - 1 + l(n):  True\n",
    "\n",
    "    n: 6 , l(n): 4 , l(2^n - 1):  9\n",
    "    l(2^n - 1) <= n - 1 + l(n):  True\n",
    "\n",
    "    n: 7 , l(n): 5 , l(2^n - 1):  11\n",
    "    l(2^n - 1) <= n - 1 + l(n):  True\n",
    "\n",
    "    n: 8 , l(n): 4 , l(2^n - 1):  11\n",
    "    l(2^n - 1) <= n - 1 + l(n):  True\n",
    "\n",
    "    n: 9 , l(n): 5 , l(2^n - 1):  13\n",
    "    l(2^n - 1) <= n - 1 + l(n):  True\n",
    "\n",
    "    n: 10 , l(n): 5 , l(2^n - 1):  14\n",
    "    l(2^n - 1) <= n - 1 + l(n):  True\n",
    "    \n",
    "    n: 11 , l(n): 6 , l(2^n - 1): 16\n",
    "    l(2^n - 1) <= n - 1 + l(n):  True\n",
    "    \n",
    "    n: 12 , l(n): 5 , l(2^n - 1): 16\n",
    "    l(2^n - 1) <= n - 1 + l(n):  True"
   ]
  },
  {
   "cell_type": "markdown",
   "metadata": {},
   "source": [
    "$n$ | $l^*(n)$ | $l^*(2^n - 1)$ | $Теорема$\n",
    "--- | --- | --- | --- \n",
    "1 | 1 | 1 | Выполнена\n",
    "2 | 2 | 3 | Выполнена\n",
    "3 | 3 | 5 | Выполнена\n",
    "4 | 3 | 6 | Выполнена\n",
    "5 | 4 | 8 | Выполнена\n",
    "6 | 4 | 9 | Выполнена\n",
    "7 | 5 | 11 | Выполнена\n",
    "8 | 4 | 11 | Выполнена\n",
    "9 | 5 | 13 | Выполнена\n",
    "10 | 5 | 14 | Выполнена\n",
    "11 | 6 | 16 | Выполнена\n",
    "12 | 5 | 16 | Выполнена"
   ]
  },
  {
   "cell_type": "markdown",
   "metadata": {},
   "source": [
    "Итог: Гипотеза Шольца-Брауэра для n от 1 до 12 верна. Дальнейшее вычисление будет очень долгим для проверки"
   ]
  },
  {
   "cell_type": "markdown",
   "metadata": {},
   "source": [
    "### Вывод: \n",
    "Научился составлять алгоритмы по аддитивным цепочкам, сформировал четкое представление об этой структуре"
   ]
  }
 ],
 "metadata": {
  "kernelspec": {
   "display_name": "SageMath 9.3",
   "language": "sage",
   "name": "sagemath"
  },
  "language_info": {
   "codemirror_mode": {
    "name": "ipython",
    "version": 3
   },
   "file_extension": ".py",
   "mimetype": "text/x-python",
   "name": "python",
   "nbconvert_exporter": "python",
   "pygments_lexer": "ipython3",
   "version": "3.7.10"
  }
 },
 "nbformat": 4,
 "nbformat_minor": 4
}
